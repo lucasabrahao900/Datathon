{
 "cells": [
  {
   "cell_type": "markdown",
   "metadata": {},
   "source": [
    "## Treinamento Modelo"
   ]
  },
  {
   "cell_type": "markdown",
   "metadata": {},
   "source": [
    "#### EDA Conjuntos de Treino"
   ]
  },
  {
   "cell_type": "markdown",
   "metadata": {},
   "source": [
    "Avaliando cada um dos conjuntos de treino para entender o comportamento das variáveis de forma prévia."
   ]
  },
  {
   "cell_type": "code",
   "execution_count": 7,
   "metadata": {},
   "outputs": [],
   "source": [
    "# Libs:\n",
    "import numpy as np\n",
    "import pandas as pd\n",
    "import matplotlib.pyplot as pls\n",
    "import seaborn as sns\n",
    "import os"
   ]
  },
  {
   "cell_type": "markdown",
   "metadata": {},
   "source": [
    "Vamos avaliar cada um dos conjuntos de treino de forma separada e depois podemos avaliar tudo junto, principalmente as **features** mais interessantes"
   ]
  },
  {
   "cell_type": "code",
   "execution_count": 199,
   "metadata": {},
   "outputs": [
    {
     "name": "stdout",
     "output_type": "stream",
     "text": [
      "Arquivo treino_parte1: shape (100000, 10)\n",
      "Arquivo treino_parte2: shape (100000, 10)\n",
      "Arquivo treino_parte3: shape (100000, 10)\n",
      "Arquivo treino_parte4: shape (100000, 10)\n",
      "Arquivo treino_parte5: shape (100000, 10)\n",
      "Arquivo treino_parte6: shape (77942, 10)\n",
      "Full df: (577942, 10)\n"
     ]
    }
   ],
   "source": [
    "# Looping os conj. de treino:\n",
    "path = \"C:\\\\Users\\\\lucaa\\\\Desktop\\\\Pastas Gerais\\\\Pós Tech Data Analytics\\\\Fase 5\\\\Datathon\\\\data\\\\files\\\\treino\\\\\"\n",
    "df_full = pd.DataFrame()\n",
    "for file in os.listdir(path):\n",
    "    if file.__contains__(\"csv\"):\n",
    "        df = pd.read_csv(f\"{path}{file}\")\n",
    "        print(f\"Arquivo {file.replace('.csv', '')}: shape {df.shape}\")\n",
    "        \n",
    "        # Concat dfs:\n",
    "        df_full = pd.concat([df_full, df])\n",
    "        \n",
    "        del df\n",
    "print(f\"Full df: {df_full.shape}\")"
   ]
  },
  {
   "cell_type": "code",
   "execution_count": 15,
   "metadata": {},
   "outputs": [
    {
     "data": {
      "text/html": [
       "<div>\n",
       "<style scoped>\n",
       "    .dataframe tbody tr th:only-of-type {\n",
       "        vertical-align: middle;\n",
       "    }\n",
       "\n",
       "    .dataframe tbody tr th {\n",
       "        vertical-align: top;\n",
       "    }\n",
       "\n",
       "    .dataframe thead th {\n",
       "        text-align: right;\n",
       "    }\n",
       "</style>\n",
       "<table border=\"1\" class=\"dataframe\">\n",
       "  <thead>\n",
       "    <tr style=\"text-align: right;\">\n",
       "      <th></th>\n",
       "      <th>userId</th>\n",
       "      <th>userType</th>\n",
       "      <th>historySize</th>\n",
       "      <th>history</th>\n",
       "      <th>timestampHistory</th>\n",
       "      <th>numberOfClicksHistory</th>\n",
       "      <th>timeOnPageHistory</th>\n",
       "      <th>scrollPercentageHistory</th>\n",
       "      <th>pageVisitsCountHistory</th>\n",
       "      <th>timestampHistory_new</th>\n",
       "    </tr>\n",
       "  </thead>\n",
       "  <tbody>\n",
       "    <tr>\n",
       "      <th>0</th>\n",
       "      <td>f98d1132f60d46883ce49583257104d15ce723b3bbda21...</td>\n",
       "      <td>Non-Logged</td>\n",
       "      <td>3</td>\n",
       "      <td>c8aab885-433d-4e46-8066-479f40ba7fb2, 68d2039c...</td>\n",
       "      <td>1657146417045, 1657146605778, 1657146698738</td>\n",
       "      <td>76, 38, 41</td>\n",
       "      <td>20380, 21184, 35438</td>\n",
       "      <td>50.3, 18.18, 16.46</td>\n",
       "      <td>2, 1, 1</td>\n",
       "      <td>1657146417045, 1657146605778, 1657146698738</td>\n",
       "    </tr>\n",
       "    <tr>\n",
       "      <th>1</th>\n",
       "      <td>2c1080975e257ed630e26679edbe4d5c850c65f3e09f65...</td>\n",
       "      <td>Non-Logged</td>\n",
       "      <td>60</td>\n",
       "      <td>3325b5a1-979a-4cb3-82b6-63905c9edbe8, fe856057...</td>\n",
       "      <td>1656684240278, 1656761266729, 1656761528085, 1...</td>\n",
       "      <td>7, 80, 2, 1, 7, 62, 26, 44, 4, 4, 14, 45, 13, ...</td>\n",
       "      <td>6049, 210489, 8672, 10000, 30000, 123007, 9965...</td>\n",
       "      <td>25.35, 45.66, 35.3, 28.05, 36.53, 47.57, 55.33...</td>\n",
       "      <td>1, 1, 1, 1, 1, 1, 1, 1, 1, 2, 1, 1, 1, 2, 1, 1...</td>\n",
       "      <td>1656684240278, 1656761266729, 1656761528085, 1...</td>\n",
       "    </tr>\n",
       "    <tr>\n",
       "      <th>2</th>\n",
       "      <td>0adffd7450d3b9840d8c6215f0569ad942e782fb19b805...</td>\n",
       "      <td>Logged</td>\n",
       "      <td>107</td>\n",
       "      <td>04756569-593e-4133-a95a-83d35d43dbbd, 29b6b142...</td>\n",
       "      <td>1656678946256, 1656701076495, 1656701882565, 1...</td>\n",
       "      <td>0, 0, 0, 0, 0, 44, 0, 0, 2, 1, 0, 0, 0, 44, 0,...</td>\n",
       "      <td>311274, 140000, 32515, 157018, 118689, 159243,...</td>\n",
       "      <td>67.58, 47.22, 41.52, 63.09, 51.38, 65.11, 71.9...</td>\n",
       "      <td>1, 1, 1, 1, 1, 1, 1, 1, 2, 1, 1, 1, 1, 1, 1, 1...</td>\n",
       "      <td>1656678946256, 1656701076495, 1656701882565, 1...</td>\n",
       "    </tr>\n",
       "  </tbody>\n",
       "</table>\n",
       "</div>"
      ],
      "text/plain": [
       "                                              userId    userType  historySize  \\\n",
       "0  f98d1132f60d46883ce49583257104d15ce723b3bbda21...  Non-Logged            3   \n",
       "1  2c1080975e257ed630e26679edbe4d5c850c65f3e09f65...  Non-Logged           60   \n",
       "2  0adffd7450d3b9840d8c6215f0569ad942e782fb19b805...      Logged          107   \n",
       "\n",
       "                                             history  \\\n",
       "0  c8aab885-433d-4e46-8066-479f40ba7fb2, 68d2039c...   \n",
       "1  3325b5a1-979a-4cb3-82b6-63905c9edbe8, fe856057...   \n",
       "2  04756569-593e-4133-a95a-83d35d43dbbd, 29b6b142...   \n",
       "\n",
       "                                    timestampHistory  \\\n",
       "0        1657146417045, 1657146605778, 1657146698738   \n",
       "1  1656684240278, 1656761266729, 1656761528085, 1...   \n",
       "2  1656678946256, 1656701076495, 1656701882565, 1...   \n",
       "\n",
       "                               numberOfClicksHistory  \\\n",
       "0                                         76, 38, 41   \n",
       "1  7, 80, 2, 1, 7, 62, 26, 44, 4, 4, 14, 45, 13, ...   \n",
       "2  0, 0, 0, 0, 0, 44, 0, 0, 2, 1, 0, 0, 0, 44, 0,...   \n",
       "\n",
       "                                   timeOnPageHistory  \\\n",
       "0                                20380, 21184, 35438   \n",
       "1  6049, 210489, 8672, 10000, 30000, 123007, 9965...   \n",
       "2  311274, 140000, 32515, 157018, 118689, 159243,...   \n",
       "\n",
       "                             scrollPercentageHistory  \\\n",
       "0                                 50.3, 18.18, 16.46   \n",
       "1  25.35, 45.66, 35.3, 28.05, 36.53, 47.57, 55.33...   \n",
       "2  67.58, 47.22, 41.52, 63.09, 51.38, 65.11, 71.9...   \n",
       "\n",
       "                              pageVisitsCountHistory  \\\n",
       "0                                            2, 1, 1   \n",
       "1  1, 1, 1, 1, 1, 1, 1, 1, 1, 2, 1, 1, 1, 2, 1, 1...   \n",
       "2  1, 1, 1, 1, 1, 1, 1, 1, 2, 1, 1, 1, 1, 1, 1, 1...   \n",
       "\n",
       "                                timestampHistory_new  \n",
       "0        1657146417045, 1657146605778, 1657146698738  \n",
       "1  1656684240278, 1656761266729, 1656761528085, 1...  \n",
       "2  1656678946256, 1656701076495, 1656701882565, 1...  "
      ]
     },
     "execution_count": 15,
     "metadata": {},
     "output_type": "execute_result"
    }
   ],
   "source": [
    "df_full.head(3)"
   ]
  },
  {
   "cell_type": "code",
   "execution_count": 20,
   "metadata": {},
   "outputs": [
    {
     "data": {
      "text/html": [
       "<div>\n",
       "<style scoped>\n",
       "    .dataframe tbody tr th:only-of-type {\n",
       "        vertical-align: middle;\n",
       "    }\n",
       "\n",
       "    .dataframe tbody tr th {\n",
       "        vertical-align: top;\n",
       "    }\n",
       "\n",
       "    .dataframe thead th {\n",
       "        text-align: right;\n",
       "    }\n",
       "</style>\n",
       "<table border=\"1\" class=\"dataframe\">\n",
       "  <thead>\n",
       "    <tr style=\"text-align: right;\">\n",
       "      <th></th>\n",
       "      <th>userId</th>\n",
       "      <th>userType</th>\n",
       "      <th>historySize</th>\n",
       "      <th>history</th>\n",
       "      <th>timestampHistory</th>\n",
       "      <th>numberOfClicksHistory</th>\n",
       "      <th>timeOnPageHistory</th>\n",
       "      <th>scrollPercentageHistory</th>\n",
       "      <th>pageVisitsCountHistory</th>\n",
       "      <th>timestampHistory_new</th>\n",
       "    </tr>\n",
       "  </thead>\n",
       "  <tbody>\n",
       "  </tbody>\n",
       "</table>\n",
       "</div>"
      ],
      "text/plain": [
       "Empty DataFrame\n",
       "Columns: [userId, userType, historySize, history, timestampHistory, numberOfClicksHistory, timeOnPageHistory, scrollPercentageHistory, pageVisitsCountHistory, timestampHistory_new]\n",
       "Index: []"
      ]
     },
     "execution_count": 20,
     "metadata": {},
     "output_type": "execute_result"
    }
   ],
   "source": [
    "df_full[df_full[\"userId\"].isnull()]"
   ]
  },
  {
   "cell_type": "code",
   "execution_count": 21,
   "metadata": {},
   "outputs": [
    {
     "data": {
      "text/plain": [
       "np.int64(0)"
      ]
     },
     "execution_count": 21,
     "metadata": {},
     "output_type": "execute_result"
    }
   ],
   "source": [
    "# Checando linearidade da base - por causa do historico:\n",
    "df_full[\"userId\"].duplicated().sum()"
   ]
  },
  {
   "cell_type": "code",
   "execution_count": 40,
   "metadata": {},
   "outputs": [
    {
     "name": "stdout",
     "output_type": "stream",
     "text": [
      "577942 -> 8123951\n"
     ]
    }
   ],
   "source": [
    "# Numero de linhas projetadas:\n",
    "print(df_full.shape[0], \"->\", df_full[\"historySize\"].sum())"
   ]
  },
  {
   "cell_type": "markdown",
   "metadata": {},
   "source": [
    "Vamos tentar combinar duas técnicas, uma de session-based collaborative filtering e outra de content-based filtering, porém vamos tentar uma forma diferente da categoria. Para exemplificar o que tentaremos fazer, segue abaixo:\n",
    "\n",
    "1. Criar um sistema de recomendação baseada em filtro colaborativo para cada sessão dos usuários para recomendar os N próximos artigos mais prováveis através das similaridades com outras sessões.\n",
    "2. Depois rankear esses arquivos pela categoria deles, entretanto, aqui a categoria seria um pouco diferente, ao invés de usar categoria específcia vamos criar uma nova que é baseada em um score que iremos definir a partir de uma combinação entre algumas métricas interessantes."
   ]
  },
  {
   "cell_type": "markdown",
   "metadata": {},
   "source": [
    "### Criando o Score para as páginas"
   ]
  },
  {
   "cell_type": "code",
   "execution_count": 9,
   "metadata": {},
   "outputs": [],
   "source": [
    "# Puxando as infos agragadas por pagina:\n",
    "hists = []\n",
    "times_pages = []\n",
    "scroll_pp_pages = []\n",
    "for i in range(len(df_full)):\n",
    "    hists += df_full.iloc[i][\"history\"].split(\", \")\n",
    "    times_pages += df_full.iloc[i][\"timeOnPageHistory\"].split(\", \")\n",
    "    scroll_pp_pages += df_full.iloc[i][\"scrollPercentageHistory\"].split(\", \")"
   ]
  },
  {
   "cell_type": "code",
   "execution_count": 10,
   "metadata": {},
   "outputs": [
    {
     "name": "stdout",
     "output_type": "stream",
     "text": [
      "Paginas: 1931607\n",
      "Tempo na Pag: 1931607\n",
      "Scroll Pag: 1931607\n"
     ]
    }
   ],
   "source": [
    "print(\"Paginas:\", len(hists))\n",
    "print(\"Tempo na Pag:\", len(times_pages))\n",
    "print(\"Scroll Pag:\", len(scroll_pp_pages))"
   ]
  },
  {
   "cell_type": "code",
   "execution_count": 11,
   "metadata": {},
   "outputs": [],
   "source": [
    "# Criando df para agregação:\n",
    "df_paginas = (\n",
    "    pd.DataFrame({\n",
    "        \"history\": hists,\n",
    "        \"timeOnPageHistory\": times_pages,\n",
    "        \"scrollPercentageHistory\": scroll_pp_pages\n",
    "    })\n",
    "    .assign(\n",
    "        history = lambda df_: df_.history.str.strip(),\n",
    "        timeOnPageHistory = lambda df_: df_.timeOnPageHistory.astype(int),\n",
    "        scrollPercentageHistory = lambda df_: df_.scrollPercentageHistory.astype(float)\n",
    "    )\n",
    ")"
   ]
  },
  {
   "cell_type": "code",
   "execution_count": 13,
   "metadata": {},
   "outputs": [
    {
     "data": {
      "text/html": [
       "<div>\n",
       "<style scoped>\n",
       "    .dataframe tbody tr th:only-of-type {\n",
       "        vertical-align: middle;\n",
       "    }\n",
       "\n",
       "    .dataframe tbody tr th {\n",
       "        vertical-align: top;\n",
       "    }\n",
       "\n",
       "    .dataframe thead th {\n",
       "        text-align: right;\n",
       "    }\n",
       "</style>\n",
       "<table border=\"1\" class=\"dataframe\">\n",
       "  <thead>\n",
       "    <tr style=\"text-align: right;\">\n",
       "      <th></th>\n",
       "      <th>history</th>\n",
       "      <th>timeOnPageHistory</th>\n",
       "      <th>scrollPercentageHistory</th>\n",
       "    </tr>\n",
       "  </thead>\n",
       "  <tbody>\n",
       "    <tr>\n",
       "      <th>0</th>\n",
       "      <td>c8aab885-433d-4e46-8066-479f40ba7fb2</td>\n",
       "      <td>20380</td>\n",
       "      <td>50.30</td>\n",
       "    </tr>\n",
       "    <tr>\n",
       "      <th>1</th>\n",
       "      <td>68d2039c-c9aa-456c-ac33-9b2e8677fba7</td>\n",
       "      <td>21184</td>\n",
       "      <td>18.18</td>\n",
       "    </tr>\n",
       "    <tr>\n",
       "      <th>2</th>\n",
       "      <td>13e423ce-1d69-4c78-bc18-e8c8f7271964</td>\n",
       "      <td>35438</td>\n",
       "      <td>16.46</td>\n",
       "    </tr>\n",
       "    <tr>\n",
       "      <th>3</th>\n",
       "      <td>bebdeb3e-1699-43e0-a1b8-989f5a6ab679</td>\n",
       "      <td>801396</td>\n",
       "      <td>78.74</td>\n",
       "    </tr>\n",
       "    <tr>\n",
       "      <th>4</th>\n",
       "      <td>f4b484a7-38f7-4246-be9e-4e2cd8373bcd</td>\n",
       "      <td>801396</td>\n",
       "      <td>78.74</td>\n",
       "    </tr>\n",
       "  </tbody>\n",
       "</table>\n",
       "</div>"
      ],
      "text/plain": [
       "                                history  timeOnPageHistory  \\\n",
       "0  c8aab885-433d-4e46-8066-479f40ba7fb2              20380   \n",
       "1  68d2039c-c9aa-456c-ac33-9b2e8677fba7              21184   \n",
       "2  13e423ce-1d69-4c78-bc18-e8c8f7271964              35438   \n",
       "3  bebdeb3e-1699-43e0-a1b8-989f5a6ab679             801396   \n",
       "4  f4b484a7-38f7-4246-be9e-4e2cd8373bcd             801396   \n",
       "\n",
       "   scrollPercentageHistory  \n",
       "0                    50.30  \n",
       "1                    18.18  \n",
       "2                    16.46  \n",
       "3                    78.74  \n",
       "4                    78.74  "
      ]
     },
     "execution_count": 13,
     "metadata": {},
     "output_type": "execute_result"
    }
   ],
   "source": [
    "df_paginas.head()"
   ]
  },
  {
   "cell_type": "code",
   "execution_count": 14,
   "metadata": {},
   "outputs": [
    {
     "data": {
      "text/plain": [
       "182639"
      ]
     },
     "execution_count": 14,
     "metadata": {},
     "output_type": "execute_result"
    }
   ],
   "source": [
    "df_paginas[\"history\"].nunique()"
   ]
  },
  {
   "cell_type": "code",
   "execution_count": 15,
   "metadata": {},
   "outputs": [
    {
     "data": {
      "text/html": [
       "<div>\n",
       "<style scoped>\n",
       "    .dataframe tbody tr th:only-of-type {\n",
       "        vertical-align: middle;\n",
       "    }\n",
       "\n",
       "    .dataframe tbody tr th {\n",
       "        vertical-align: top;\n",
       "    }\n",
       "\n",
       "    .dataframe thead th {\n",
       "        text-align: right;\n",
       "    }\n",
       "</style>\n",
       "<table border=\"1\" class=\"dataframe\">\n",
       "  <thead>\n",
       "    <tr style=\"text-align: right;\">\n",
       "      <th></th>\n",
       "      <th>history</th>\n",
       "      <th>timeOnPageHistory</th>\n",
       "      <th>scrollPercentageHistory</th>\n",
       "    </tr>\n",
       "  </thead>\n",
       "  <tbody>\n",
       "  </tbody>\n",
       "</table>\n",
       "</div>"
      ],
      "text/plain": [
       "Empty DataFrame\n",
       "Columns: [history, timeOnPageHistory, scrollPercentageHistory]\n",
       "Index: []"
      ]
     },
     "execution_count": 15,
     "metadata": {},
     "output_type": "execute_result"
    }
   ],
   "source": [
    "df_paginas.query(\"history == 'bc7ffaa4-e0e2-44ff-b8f5-24cc85bf5247'\")"
   ]
  },
  {
   "cell_type": "code",
   "execution_count": 16,
   "metadata": {
    "tags": []
   },
   "outputs": [],
   "source": [
    "# Stats das Paginas:\n",
    "df_paginas_stats = (\n",
    "    df_paginas\n",
    "    .assign(\n",
    "        # Corrigindo infos\n",
    "        # Scroll > 1:\n",
    "        scrollPercentageHistory = lambda df_: np.where(df_.scrollPercentageHistory > 1, 1, df_.scrollPercentageHistory)\n",
    "    )\n",
    "    .groupby(\"history\")\n",
    "    .agg(\n",
    "        n_app = (\"timeOnPageHistory\", \"count\"),\n",
    "        avg_time = (\"timeOnPageHistory\", \"mean\"),\n",
    "        avg_scroll = (\"scrollPercentageHistory\", \"mean\")\n",
    "    )\n",
    "    .reset_index()\n",
    "    .assign(\n",
    "        avg_time_norm = lambda df_: (df_.avg_time - df_.avg_time.min()) / (df_.avg_time.max() - df_.avg_time.min()),\n",
    "        score = lambda df_: 0.7 * df_.n_app + 0.1 * df_.avg_time_norm + 0.2 * df_.avg_scroll,\n",
    "        score_norm = lambda df_: ((df_.score - df_.score.min()) / (df_.score.max() - df_.score.min())) * 10 # min-max + new scale\n",
    "    )\n",
    ")"
   ]
  },
  {
   "cell_type": "code",
   "execution_count": 17,
   "metadata": {},
   "outputs": [
    {
     "data": {
      "text/html": [
       "<div>\n",
       "<style scoped>\n",
       "    .dataframe tbody tr th:only-of-type {\n",
       "        vertical-align: middle;\n",
       "    }\n",
       "\n",
       "    .dataframe tbody tr th {\n",
       "        vertical-align: top;\n",
       "    }\n",
       "\n",
       "    .dataframe thead th {\n",
       "        text-align: right;\n",
       "    }\n",
       "</style>\n",
       "<table border=\"1\" class=\"dataframe\">\n",
       "  <thead>\n",
       "    <tr style=\"text-align: right;\">\n",
       "      <th></th>\n",
       "      <th>history</th>\n",
       "      <th>n_app</th>\n",
       "      <th>avg_time</th>\n",
       "      <th>avg_scroll</th>\n",
       "      <th>avg_time_norm</th>\n",
       "      <th>score</th>\n",
       "      <th>score_norm</th>\n",
       "    </tr>\n",
       "  </thead>\n",
       "  <tbody>\n",
       "    <tr>\n",
       "      <th>149689</th>\n",
       "      <td>d2593c3d-2347-40d9-948c-b6065e8459a9</td>\n",
       "      <td>8806</td>\n",
       "      <td>81283.464002</td>\n",
       "      <td>1.0</td>\n",
       "      <td>0.009718</td>\n",
       "      <td>6164.400972</td>\n",
       "      <td>10.000000</td>\n",
       "    </tr>\n",
       "    <tr>\n",
       "      <th>135941</th>\n",
       "      <td>bf257382-74fb-4392-ad6a-143240e39f81</td>\n",
       "      <td>6102</td>\n",
       "      <td>84221.707473</td>\n",
       "      <td>1.0</td>\n",
       "      <td>0.010092</td>\n",
       "      <td>4271.601009</td>\n",
       "      <td>6.929083</td>\n",
       "    </tr>\n",
       "    <tr>\n",
       "      <th>176051</th>\n",
       "      <td>f6b5d170-48b9-4f8e-88d4-c84b6668f3bd</td>\n",
       "      <td>5456</td>\n",
       "      <td>81789.070565</td>\n",
       "      <td>1.0</td>\n",
       "      <td>0.009782</td>\n",
       "      <td>3819.400978</td>\n",
       "      <td>6.195424</td>\n",
       "    </tr>\n",
       "    <tr>\n",
       "      <th>116052</th>\n",
       "      <td>a36c98b5-f159-48f8-9f5a-1fc6ea9956c8</td>\n",
       "      <td>4539</td>\n",
       "      <td>78914.614453</td>\n",
       "      <td>1.0</td>\n",
       "      <td>0.009416</td>\n",
       "      <td>3177.500942</td>\n",
       "      <td>5.153993</td>\n",
       "    </tr>\n",
       "    <tr>\n",
       "      <th>22006</th>\n",
       "      <td>1f32787b-de2b-49be-8c20-ddaeae34cc22</td>\n",
       "      <td>4018</td>\n",
       "      <td>92743.733449</td>\n",
       "      <td>1.0</td>\n",
       "      <td>0.011178</td>\n",
       "      <td>2812.801118</td>\n",
       "      <td>4.562296</td>\n",
       "    </tr>\n",
       "  </tbody>\n",
       "</table>\n",
       "</div>"
      ],
      "text/plain": [
       "                                     history  n_app      avg_time  avg_scroll  \\\n",
       "149689  d2593c3d-2347-40d9-948c-b6065e8459a9   8806  81283.464002         1.0   \n",
       "135941  bf257382-74fb-4392-ad6a-143240e39f81   6102  84221.707473         1.0   \n",
       "176051  f6b5d170-48b9-4f8e-88d4-c84b6668f3bd   5456  81789.070565         1.0   \n",
       "116052  a36c98b5-f159-48f8-9f5a-1fc6ea9956c8   4539  78914.614453         1.0   \n",
       "22006   1f32787b-de2b-49be-8c20-ddaeae34cc22   4018  92743.733449         1.0   \n",
       "\n",
       "        avg_time_norm        score  score_norm  \n",
       "149689       0.009718  6164.400972   10.000000  \n",
       "135941       0.010092  4271.601009    6.929083  \n",
       "176051       0.009782  3819.400978    6.195424  \n",
       "116052       0.009416  3177.500942    5.153993  \n",
       "22006        0.011178  2812.801118    4.562296  "
      ]
     },
     "execution_count": 17,
     "metadata": {},
     "output_type": "execute_result"
    }
   ],
   "source": [
    "df_paginas_stats.sort_values(by = [\"score_norm\"], ascending = False).head()"
   ]
  },
  {
   "cell_type": "markdown",
   "metadata": {},
   "source": [
    "Vamos ver se esses scores fazem sentido, vamos puxar o top dez e ler a descrição para ter uma ideia."
   ]
  },
  {
   "cell_type": "code",
   "execution_count": 81,
   "metadata": {},
   "outputs": [],
   "source": [
    "path = \"C:\\\\Users\\\\lucaa\\\\Desktop\\\\Pastas Gerais\\\\Pós Tech Data Analytics\\\\Fase 5\\\\Datathon\\\\data\\\\itens\\\\itens\\\\\"\n",
    "df_desc_paginas = pd.DataFrame()\n",
    "for file in os.listdir(path):\n",
    "    if file.__contains__(\"csv\"):\n",
    "        df = pd.read_csv(f\"{path}{file}\")\n",
    "        # Concat dfs:\n",
    "        df_desc_paginas = pd.concat([df_desc_paginas, df])\n",
    "        del df"
   ]
  },
  {
   "cell_type": "code",
   "execution_count": 82,
   "metadata": {},
   "outputs": [
    {
     "data": {
      "text/plain": [
       "(255603, 7)"
      ]
     },
     "execution_count": 82,
     "metadata": {},
     "output_type": "execute_result"
    }
   ],
   "source": [
    "df_desc_paginas.shape"
   ]
  },
  {
   "cell_type": "code",
   "execution_count": 83,
   "metadata": {},
   "outputs": [
    {
     "data": {
      "text/html": [
       "<div>\n",
       "<style scoped>\n",
       "    .dataframe tbody tr th:only-of-type {\n",
       "        vertical-align: middle;\n",
       "    }\n",
       "\n",
       "    .dataframe tbody tr th {\n",
       "        vertical-align: top;\n",
       "    }\n",
       "\n",
       "    .dataframe thead th {\n",
       "        text-align: right;\n",
       "    }\n",
       "</style>\n",
       "<table border=\"1\" class=\"dataframe\">\n",
       "  <thead>\n",
       "    <tr style=\"text-align: right;\">\n",
       "      <th></th>\n",
       "      <th>page</th>\n",
       "      <th>url</th>\n",
       "      <th>issued</th>\n",
       "      <th>modified</th>\n",
       "      <th>title</th>\n",
       "      <th>body</th>\n",
       "      <th>caption</th>\n",
       "    </tr>\n",
       "  </thead>\n",
       "  <tbody>\n",
       "    <tr>\n",
       "      <th>0</th>\n",
       "      <td>13db0ab1-eea2-4603-84c4-f40a876c7400</td>\n",
       "      <td>http://g1.globo.com/am/amazonas/noticia/2022/0...</td>\n",
       "      <td>2022-06-18 20:37:45+00:00</td>\n",
       "      <td>2023-04-15 00:02:08+00:00</td>\n",
       "      <td>Caso Bruno e Dom: 3º suspeito tem prisão tempo...</td>\n",
       "      <td>Após audiência de custódia, a Justiça do Amazo...</td>\n",
       "      <td>Jeferson da Silva Lima foi escoltado por agent...</td>\n",
       "    </tr>\n",
       "    <tr>\n",
       "      <th>1</th>\n",
       "      <td>92907b73-5cd3-4184-8d8c-e206aed2bf1c</td>\n",
       "      <td>http://g1.globo.com/pa/santarem-regiao/noticia...</td>\n",
       "      <td>2019-06-20 17:19:52+00:00</td>\n",
       "      <td>2023-06-16 20:19:15+00:00</td>\n",
       "      <td>Linguajar dos santarenos é diferenciado e chei...</td>\n",
       "      <td>Vista aérea de Santarém\\nÁdrio Denner/ AD Prod...</td>\n",
       "      <td>As expressões santarenas não significam apenas...</td>\n",
       "    </tr>\n",
       "    <tr>\n",
       "      <th>2</th>\n",
       "      <td>61e07f64-cddf-46f2-b50c-ea0a39c22050</td>\n",
       "      <td>http://g1.globo.com/mundo/noticia/2022/07/08/e...</td>\n",
       "      <td>2022-07-08 08:55:52+00:00</td>\n",
       "      <td>2023-04-15 04:25:39+00:00</td>\n",
       "      <td>Ex-premiê Shinzo Abe morre após ser baleado no...</td>\n",
       "      <td>Novo vídeo mostra que assassino de Shinzo Abe ...</td>\n",
       "      <td>Ex-primeiro-ministro foi atingido por tiros de...</td>\n",
       "    </tr>\n",
       "    <tr>\n",
       "      <th>3</th>\n",
       "      <td>30e2e6c5-554a-48ed-a35f-6c6691c8ac9b</td>\n",
       "      <td>http://g1.globo.com/politica/noticia/2021/09/0...</td>\n",
       "      <td>2021-09-09 19:06:46+00:00</td>\n",
       "      <td>2023-06-07 17:44:54+00:00</td>\n",
       "      <td>Relator no STF, Fachin vota contra marco tempo...</td>\n",
       "      <td>Relator no STF, Fachin vota contra marco tempo...</td>\n",
       "      <td>Ministro defendeu que posse indígena é diferen...</td>\n",
       "    </tr>\n",
       "    <tr>\n",
       "      <th>4</th>\n",
       "      <td>9dff71eb-b681-40c7-ac8d-68017ac36675</td>\n",
       "      <td>http://g1.globo.com/politica/noticia/2021/09/1...</td>\n",
       "      <td>2021-09-15 19:16:13+00:00</td>\n",
       "      <td>2023-06-07 17:43:39+00:00</td>\n",
       "      <td>\\nApós 2 votos, pedido de vista suspende julga...</td>\n",
       "      <td>Após um pedido de vista (mais tempo para análi...</td>\n",
       "      <td>Pelo marco temporal, índios só podem reivindic...</td>\n",
       "    </tr>\n",
       "  </tbody>\n",
       "</table>\n",
       "</div>"
      ],
      "text/plain": [
       "                                   page  \\\n",
       "0  13db0ab1-eea2-4603-84c4-f40a876c7400   \n",
       "1  92907b73-5cd3-4184-8d8c-e206aed2bf1c   \n",
       "2  61e07f64-cddf-46f2-b50c-ea0a39c22050   \n",
       "3  30e2e6c5-554a-48ed-a35f-6c6691c8ac9b   \n",
       "4  9dff71eb-b681-40c7-ac8d-68017ac36675   \n",
       "\n",
       "                                                 url  \\\n",
       "0  http://g1.globo.com/am/amazonas/noticia/2022/0...   \n",
       "1  http://g1.globo.com/pa/santarem-regiao/noticia...   \n",
       "2  http://g1.globo.com/mundo/noticia/2022/07/08/e...   \n",
       "3  http://g1.globo.com/politica/noticia/2021/09/0...   \n",
       "4  http://g1.globo.com/politica/noticia/2021/09/1...   \n",
       "\n",
       "                      issued                   modified  \\\n",
       "0  2022-06-18 20:37:45+00:00  2023-04-15 00:02:08+00:00   \n",
       "1  2019-06-20 17:19:52+00:00  2023-06-16 20:19:15+00:00   \n",
       "2  2022-07-08 08:55:52+00:00  2023-04-15 04:25:39+00:00   \n",
       "3  2021-09-09 19:06:46+00:00  2023-06-07 17:44:54+00:00   \n",
       "4  2021-09-15 19:16:13+00:00  2023-06-07 17:43:39+00:00   \n",
       "\n",
       "                                               title  \\\n",
       "0  Caso Bruno e Dom: 3º suspeito tem prisão tempo...   \n",
       "1  Linguajar dos santarenos é diferenciado e chei...   \n",
       "2  Ex-premiê Shinzo Abe morre após ser baleado no...   \n",
       "3  Relator no STF, Fachin vota contra marco tempo...   \n",
       "4  \\nApós 2 votos, pedido de vista suspende julga...   \n",
       "\n",
       "                                                body  \\\n",
       "0  Após audiência de custódia, a Justiça do Amazo...   \n",
       "1  Vista aérea de Santarém\\nÁdrio Denner/ AD Prod...   \n",
       "2  Novo vídeo mostra que assassino de Shinzo Abe ...   \n",
       "3  Relator no STF, Fachin vota contra marco tempo...   \n",
       "4  Após um pedido de vista (mais tempo para análi...   \n",
       "\n",
       "                                             caption  \n",
       "0  Jeferson da Silva Lima foi escoltado por agent...  \n",
       "1  As expressões santarenas não significam apenas...  \n",
       "2  Ex-primeiro-ministro foi atingido por tiros de...  \n",
       "3  Ministro defendeu que posse indígena é diferen...  \n",
       "4  Pelo marco temporal, índios só podem reivindic...  "
      ]
     },
     "execution_count": 83,
     "metadata": {},
     "output_type": "execute_result"
    }
   ],
   "source": [
    "df_desc_paginas.head()"
   ]
  },
  {
   "cell_type": "code",
   "execution_count": 84,
   "metadata": {},
   "outputs": [],
   "source": [
    "# Agregando descricoes aos stats das paginas:\n",
    "df_desc_paginas = (\n",
    "    df_desc_paginas\n",
    "    .merge(df_paginas_stats, left_on = \"page\", right_on = \"history\")\n",
    ")"
   ]
  },
  {
   "cell_type": "code",
   "execution_count": 85,
   "metadata": {},
   "outputs": [
    {
     "name": "stdout",
     "output_type": "stream",
     "text": [
      "\n",
      "    Página Top 1 - Score 10.0: \n",
      "    Título: Anestesista é preso em flagrante por estupro de uma paciente que passava por cesárea no RJ\n",
      "    Legenda: Giovanni Quintella Bezerra foi filmado por funcionários do Hospital da Mulher de São João de Meriti ao cometer crime. A defesa do anestesista disse que aguarda acesso à íntegra dos depoimentos para se manifestar. \n",
      "    \n",
      "\n",
      "    Página Top 2 - Score 8.845023420518178: \n",
      "    Título: Diretor da Caixa Econômica Federal é encontrado morto na sede do banco em Brasília\n",
      "    Legenda: Sérgio Ricardo Faustino Batista ocupava a diretoria de Controles Internos e Integridade da instituição, área que recebe denúncias sobre qualquer assunto, inclusive de assédio sexual, como as feitas contra o ex-presidente Pedro Guimarães. \n",
      "    \n",
      "\n",
      "    Página Top 3 - Score 7.784167873031413: \n",
      "    Título: Filha é presa por golpe estimado em R$ 725 milhões contra a mãe; quadros renomados roubados foram recuperados\n",
      "    Legenda: \n",
      "Segundo as investigações, a filha contratou pessoas que se passaram por videntes para convencer a idosa a pagar por um 'trabalho espiritual' a fim de salvá-la. Agentes saíram para cumprir seis mandados de prisão e 16 de busca e apreensão.\n",
      "    \n",
      "\n",
      "    Página Top 4 - Score 7.3223368084630955: \n",
      "    Título: Caso Bárbara: suspeito de envolvimento no assassinato de criança é encontrado morto em BH\n",
      "    Legenda: Causa da morte é apurada. Menina de 10 anos, que desapareceu ao sair para comprar pão, foi sepultada nesta quarta-feira (3).\n",
      "    \n",
      "\n",
      "    Página Top 5 - Score 7.218644133687281: \n",
      "    Título: Pizzaria recebe PIX falso e entrega refrigerante e pizza 'falsos' em Teresina\n",
      "    Legenda: Com ajuda de funcionários, dono do estabelecimento decidiu fazer 'pegadinha' com homem que alterou comprovante de PIX pela segunda vez e estava tentando aplicar o mesmo golpe em outro estabelecimento. \n",
      "    \n",
      "\n",
      "    Página Top 6 - Score 6.821421504814664: \n",
      "    Título: ‘Tímido e discreto’: saiba quem era filho de Caiado encontrado morto em fazenda de Nova Crixás\n",
      "    Legenda: Ele é o segundo filho do governador e formado em administração. Causa da morte não foi divulgada.\n",
      "    \n",
      "\n",
      "    Página Top 7 - Score 6.683031681861062: \n",
      "    Título: Vídeos mostram diferentes ângulos do ataque ao ex-premiê do Japão, Shinzo Abe; VEJA\n",
      "    Legenda: Ex-primeiro-ministro foi atingido durante discurso na cidade de Nara, no oeste do país. Um homem foi preso, e uma espingarda, apreendida. Morte chocou o Japão, onde o controle de armas de fogo é rígido e casos similares, muito raros.\n",
      "    \n",
      "\n",
      "    Página Top 8 - Score 6.551421815899654: \n",
      "    Título: Vídeo flagra homem atirando na cabeça de vizinho que varria sua calçada\n",
      "    Legenda: Crime ocorreu neste domingo (24), em Chapadão do Sul (MS). O homem que atirou fugiu e ainda não foi localizado. Policiais realizaram buscas na casa dele e encontraram uma caixa de munição calibre 32.\n",
      "    \n",
      "\n",
      "    Página Top 9 - Score 6.542248959901755: \n",
      "    Título: Jô Soares, ícone do humor e da TV, morre em São Paulo aos 84 anos\n",
      "    Legenda: Apresentador e humorista estava internado no Hospital Sírio-Libanês, em São Paulo, desde o dia 28 de julho. Causa da morte não foi divulgada. \n",
      "    \n",
      "\n",
      "    Página Top 10 - Score 6.334863649120624: \n",
      "    Título: Campeão mundial de jiu-jítsu, Leandro Lo é baleado na cabeça durante show em clube da Zona Sul de SP\n",
      "    Legenda: Segundo o advogado da família, foi confirmada a morte cerebral do atleta. Ele teria imobilizado um homem envolvido numa briga para acalmar a situação durante show no Clube Sírio, em Indianópolis. Após o episódio, o rapaz sacou uma arma, atirou e fugiu.\n",
      "    \n"
     ]
    }
   ],
   "source": [
    "top10 = df_desc_paginas.sort_values(by = \"score_norm\", ascending = False).head(10).reset_index(drop = True)\n",
    "for i in range(10):\n",
    "    print(f\"\"\"\n",
    "    Página Top {i+1} - Score {top10.iloc[i][\"score_norm\"]}: \n",
    "    Título: {top10.iloc[i][\"title\"]}\n",
    "    Legenda: {top10.iloc[i][\"caption\"]}\n",
    "    \"\"\")"
   ]
  },
  {
   "cell_type": "markdown",
   "metadata": {},
   "source": [
    "Agora que temos um score para as noticías podemos começar a modelar a outra parte que seria a similaridade entre os usuários/sessões."
   ]
  },
  {
   "cell_type": "code",
   "execution_count": 88,
   "metadata": {},
   "outputs": [],
   "source": [
    "# Exportando scores das pagínas:\n",
    "(\n",
    "    df_desc_paginas\n",
    "    [[\"page\", \"score_norm\"]]\n",
    "    .to_csv(\"C:\\\\Users\\\\lucaa\\\\Desktop\\\\Pastas Gerais\\\\Pós Tech Data Analytics\\\\Fase 5\\\\Datathon\\\\data\\\\scores_paginas.csv\", index = False)\n",
    ")"
   ]
  },
  {
   "cell_type": "markdown",
   "metadata": {},
   "source": [
    "#### Criando a parte de Collaborative Filtering"
   ]
  },
  {
   "cell_type": "code",
   "execution_count": 1,
   "metadata": {},
   "outputs": [],
   "source": [
    "import pandas as pd\n",
    "import numpy as np\n",
    "from sklearn.metrics.pairwise import cosine_similarity\n",
    "from scipy.sparse import csr_matrix\n",
    "import os"
   ]
  },
  {
   "cell_type": "code",
   "execution_count": 2,
   "metadata": {},
   "outputs": [
    {
     "data": {
      "text/html": [
       "<div>\n",
       "<style scoped>\n",
       "    .dataframe tbody tr th:only-of-type {\n",
       "        vertical-align: middle;\n",
       "    }\n",
       "\n",
       "    .dataframe tbody tr th {\n",
       "        vertical-align: top;\n",
       "    }\n",
       "\n",
       "    .dataframe thead th {\n",
       "        text-align: right;\n",
       "    }\n",
       "</style>\n",
       "<table border=\"1\" class=\"dataframe\">\n",
       "  <thead>\n",
       "    <tr style=\"text-align: right;\">\n",
       "      <th></th>\n",
       "      <th>page</th>\n",
       "      <th>score_norm</th>\n",
       "    </tr>\n",
       "  </thead>\n",
       "  <tbody>\n",
       "    <tr>\n",
       "      <th>0</th>\n",
       "      <td>13db0ab1-eea2-4603-84c4-f40a876c7400</td>\n",
       "      <td>0.000838</td>\n",
       "    </tr>\n",
       "    <tr>\n",
       "      <th>1</th>\n",
       "      <td>92907b73-5cd3-4184-8d8c-e206aed2bf1c</td>\n",
       "      <td>0.000439</td>\n",
       "    </tr>\n",
       "    <tr>\n",
       "      <th>2</th>\n",
       "      <td>61e07f64-cddf-46f2-b50c-ea0a39c22050</td>\n",
       "      <td>4.984068</td>\n",
       "    </tr>\n",
       "    <tr>\n",
       "      <th>3</th>\n",
       "      <td>30e2e6c5-554a-48ed-a35f-6c6691c8ac9b</td>\n",
       "      <td>0.000838</td>\n",
       "    </tr>\n",
       "    <tr>\n",
       "      <th>4</th>\n",
       "      <td>9dff71eb-b681-40c7-ac8d-68017ac36675</td>\n",
       "      <td>0.002034</td>\n",
       "    </tr>\n",
       "  </tbody>\n",
       "</table>\n",
       "</div>"
      ],
      "text/plain": [
       "                                   page  score_norm\n",
       "0  13db0ab1-eea2-4603-84c4-f40a876c7400    0.000838\n",
       "1  92907b73-5cd3-4184-8d8c-e206aed2bf1c    0.000439\n",
       "2  61e07f64-cddf-46f2-b50c-ea0a39c22050    4.984068\n",
       "3  30e2e6c5-554a-48ed-a35f-6c6691c8ac9b    0.000838\n",
       "4  9dff71eb-b681-40c7-ac8d-68017ac36675    0.002034"
      ]
     },
     "execution_count": 2,
     "metadata": {},
     "output_type": "execute_result"
    }
   ],
   "source": [
    "df_desc_paginas = pd.read_csv(\"C:\\\\Users\\\\lucaa\\\\Desktop\\\\Pastas Gerais\\\\Pós Tech Data Analytics\\\\Fase 5\\\\Datathon\\\\data\\\\scores_paginas.csv\")\n",
    "df_desc_paginas.head()"
   ]
  },
  {
   "cell_type": "code",
   "execution_count": 4,
   "metadata": {},
   "outputs": [
    {
     "name": "stdout",
     "output_type": "stream",
     "text": [
      "Arquivo treino_parte1: shape (100000, 10)\n",
      "Arquivo treino_parte2: shape (100000, 10)\n",
      "Arquivo treino_parte3: shape (100000, 10)\n",
      "Arquivo treino_parte4: shape (100000, 10)\n",
      "Arquivo treino_parte5: shape (100000, 10)\n",
      "Arquivo treino_parte6: shape (77942, 10)\n",
      "Full df: (514140, 10)\n"
     ]
    }
   ],
   "source": [
    "# Load dataset with memory optimization\n",
    "dtypes = {\n",
    "    \"userId\": \"category\",\n",
    "    \"userType\": \"category\",\n",
    "    \"historySize\": \"int16\",\n",
    "}\n",
    "# Looping os conj. de treino:\n",
    "path = \"C:\\\\Users\\\\lucaa\\\\Desktop\\\\Pastas Gerais\\\\Pós Tech Data Analytics\\\\Fase 5\\\\Datathon\\\\data\\\\files\\\\treino\\\\\"\n",
    "df_full = pd.DataFrame()\n",
    "for file in os.listdir(path):\n",
    "    if file.__contains__(\"csv\"):\n",
    "        df = pd.read_csv(f\"{path}{file}\", dtype = dtypes)\n",
    "        print(f\"Arquivo {file.replace('.csv', '')}: shape {df.shape}\")\n",
    "        \n",
    "        # Concat dfs:\n",
    "        df_full = pd.concat([df_full, df.loc[df[\"historySize\"] <= 30]])\n",
    "        \n",
    "        del df\n",
    "print(f\"Full df: {df_full.shape}\")\n",
    "\n",
    "# Convert lists stored as strings into actual lists\n",
    "def parse_list(column, dtype):\n",
    "    return df[column].apply(lambda x: list(map(dtype, x.split(\",\"))))"
   ]
  },
  {
   "cell_type": "code",
   "execution_count": 5,
   "metadata": {},
   "outputs": [
    {
     "data": {
      "text/html": [
       "<div>\n",
       "<style scoped>\n",
       "    .dataframe tbody tr th:only-of-type {\n",
       "        vertical-align: middle;\n",
       "    }\n",
       "\n",
       "    .dataframe tbody tr th {\n",
       "        vertical-align: top;\n",
       "    }\n",
       "\n",
       "    .dataframe thead th {\n",
       "        text-align: right;\n",
       "    }\n",
       "</style>\n",
       "<table border=\"1\" class=\"dataframe\">\n",
       "  <thead>\n",
       "    <tr style=\"text-align: right;\">\n",
       "      <th></th>\n",
       "      <th>userId</th>\n",
       "      <th>userType</th>\n",
       "      <th>historySize</th>\n",
       "      <th>history</th>\n",
       "      <th>timestampHistory</th>\n",
       "      <th>numberOfClicksHistory</th>\n",
       "      <th>timeOnPageHistory</th>\n",
       "      <th>scrollPercentageHistory</th>\n",
       "      <th>pageVisitsCountHistory</th>\n",
       "      <th>timestampHistory_new</th>\n",
       "    </tr>\n",
       "  </thead>\n",
       "  <tbody>\n",
       "    <tr>\n",
       "      <th>0</th>\n",
       "      <td>f98d1132f60d46883ce49583257104d15ce723b3bbda21...</td>\n",
       "      <td>Non-Logged</td>\n",
       "      <td>3</td>\n",
       "      <td>c8aab885-433d-4e46-8066-479f40ba7fb2, 68d2039c...</td>\n",
       "      <td>1657146417045, 1657146605778, 1657146698738</td>\n",
       "      <td>76, 38, 41</td>\n",
       "      <td>20380, 21184, 35438</td>\n",
       "      <td>50.3, 18.18, 16.46</td>\n",
       "      <td>2, 1, 1</td>\n",
       "      <td>1657146417045, 1657146605778, 1657146698738</td>\n",
       "    </tr>\n",
       "    <tr>\n",
       "      <th>4</th>\n",
       "      <td>e777d1f31d4d955b63d60acc13df336d3903f52ab8f8f4...</td>\n",
       "      <td>Non-Logged</td>\n",
       "      <td>4</td>\n",
       "      <td>bebdeb3e-1699-43e0-a1b8-989f5a6ab679, f4b484a7...</td>\n",
       "      <td>1658766608801, 1658766608801, 1660084035094, 1...</td>\n",
       "      <td>579, 579, 7, 2</td>\n",
       "      <td>801396, 801396, 10000, 10000</td>\n",
       "      <td>78.74, 78.74, 16.71, 9.34</td>\n",
       "      <td>7, 7, 1, 1</td>\n",
       "      <td>1658766608801, 1658766608801, 1660084035094, 1...</td>\n",
       "    </tr>\n",
       "  </tbody>\n",
       "</table>\n",
       "</div>"
      ],
      "text/plain": [
       "                                              userId    userType  historySize  \\\n",
       "0  f98d1132f60d46883ce49583257104d15ce723b3bbda21...  Non-Logged            3   \n",
       "4  e777d1f31d4d955b63d60acc13df336d3903f52ab8f8f4...  Non-Logged            4   \n",
       "\n",
       "                                             history  \\\n",
       "0  c8aab885-433d-4e46-8066-479f40ba7fb2, 68d2039c...   \n",
       "4  bebdeb3e-1699-43e0-a1b8-989f5a6ab679, f4b484a7...   \n",
       "\n",
       "                                    timestampHistory numberOfClicksHistory  \\\n",
       "0        1657146417045, 1657146605778, 1657146698738            76, 38, 41   \n",
       "4  1658766608801, 1658766608801, 1660084035094, 1...        579, 579, 7, 2   \n",
       "\n",
       "              timeOnPageHistory    scrollPercentageHistory  \\\n",
       "0           20380, 21184, 35438         50.3, 18.18, 16.46   \n",
       "4  801396, 801396, 10000, 10000  78.74, 78.74, 16.71, 9.34   \n",
       "\n",
       "  pageVisitsCountHistory                               timestampHistory_new  \n",
       "0                2, 1, 1        1657146417045, 1657146605778, 1657146698738  \n",
       "4             7, 7, 1, 1  1658766608801, 1658766608801, 1660084035094, 1...  "
      ]
     },
     "execution_count": 5,
     "metadata": {},
     "output_type": "execute_result"
    }
   ],
   "source": [
    "df_full.head(2)"
   ]
  },
  {
   "cell_type": "code",
   "execution_count": 6,
   "metadata": {},
   "outputs": [],
   "source": [
    "def create_sparse_matrix(df):\n",
    "    user_to_index = {user: i for i, user in enumerate(df[\"userId\"].unique())}\n",
    "    page_to_index = {page: i for i, page in enumerate(set(\",\".join(df[\"history\"]).split(\",\")))}\n",
    "    page_to_index = {key.strip(): value for key, value in page_to_index.items()}\n",
    "    \n",
    "    num_users = len(user_to_index)\n",
    "    num_pages = len(page_to_index)\n",
    "\n",
    "    row, col, data = [], [], []\n",
    "    \n",
    "    for _, row_data in df.iterrows():\n",
    "        user_idx = user_to_index[row_data[\"userId\"]]\n",
    "        for page in row_data[\"history\"].split(\",\"):\n",
    "            if page in page_to_index:\n",
    "                page_idx = page_to_index[page]\n",
    "                row.append(user_idx)\n",
    "                col.append(page_idx)\n",
    "                score = df_desc_paginas.loc[df_desc_paginas[\"page\"] == page][\"score_norm\"].values[0]\n",
    "                data.append(score) #time_on_page * scroll)  # Interaction score\n",
    "\n",
    "    sparse_matrix = csr_matrix((data, (row, col)), shape=(num_users, num_pages), dtype=np.float32)\n",
    "    \n",
    "    return sparse_matrix, user_to_index, page_to_index"
   ]
  },
  {
   "cell_type": "code",
   "execution_count": null,
   "metadata": {},
   "outputs": [],
   "source": [
    "sparse_matrix, user_to_index, page_to_index = create_sparse_matrix(df_full)"
   ]
  },
  {
   "cell_type": "code",
   "execution_count": null,
   "metadata": {},
   "outputs": [],
   "source": [
    "sparse_matrix"
   ]
  },
  {
   "cell_type": "code",
   "execution_count": null,
   "metadata": {},
   "outputs": [],
   "source": [
    "def compute_cosine_similarity(sparse_matrix):\n",
    "    return cosine_similarity(sparse_matrix, dense_output=False)  # Keep it sparse"
   ]
  },
  {
   "cell_type": "code",
   "execution_count": null,
   "metadata": {},
   "outputs": [],
   "source": [
    "user_similarity = compute_cosine_similarity(sparse_matrix)"
   ]
  },
  {
   "cell_type": "code",
   "execution_count": null,
   "metadata": {},
   "outputs": [],
   "source": [
    "def hybrid_recommendation(user_id, top_n=5, alpha=0.6):\n",
    "    if user_id not in user_to_index:\n",
    "        return []\n",
    "\n",
    "    user_idx = user_to_index[user_id]\n",
    "\n",
    "    # Find the most similar users\n",
    "    similar_users = np.argsort(-user_similarity[user_idx].toarray().flatten())[1:6]  # Skip itself\n",
    "\n",
    "    # Compute user-based recommendations\n",
    "    user_recs = np.mean(sparse_matrix[similar_users].toarray(), axis=0)\n",
    "\n",
    "    # Compute item-based recommendations\n",
    "    user_history = df_full[df_full[\"userId\"] == user_id][\"history\"].values[0].split(\",\")\n",
    "    # item_recs = np.zeros(sparse_matrix.shape[1])\n",
    "\n",
    "    #for page in user_history:\n",
    "    #    if page in page_to_index:\n",
    "    #        item_recs += sparse_matrix[:, page_to_index[page]].toarray().flatten()\n",
    "\n",
    "    # Combine scores (User CF + Item CF)\n",
    "    final_scores = alpha * user_recs + (1 - alpha) #* item_recs\n",
    "    recommended_indices = np.argsort(final_scores)[::-1][:top_n]\n",
    "\n",
    "    # Convert back to page IDs\n",
    "    index_to_page = {v: k for k, v in page_to_index.items()}\n",
    "    return [index_to_page[idx] for idx in recommended_indices]"
   ]
  },
  {
   "cell_type": "code",
   "execution_count": null,
   "metadata": {},
   "outputs": [],
   "source": [
    "# Example usage\n",
    "recommended_pages = hybrid_recommendation(\"f98d1132f60d46883ce49583257104d15ce723b3bbda2147c1e31ac76f0bf069\")\n",
    "print(recommended_pages)"
   ]
  },
  {
   "cell_type": "code",
   "execution_count": 222,
   "metadata": {},
   "outputs": [
    {
     "data": {
      "text/plain": [
       "'f98d1132f60d46883ce49583257104d15ce723b3bbda2147c1e31ac76f0bf069'"
      ]
     },
     "execution_count": 222,
     "metadata": {},
     "output_type": "execute_result"
    }
   ],
   "source": [
    "df_full[\"userId\"].values[0]"
   ]
  },
  {
   "cell_type": "code",
   "execution_count": 224,
   "metadata": {},
   "outputs": [],
   "source": [
    "df_val = pd.read_csv(\"C:\\\\Users\\\\lucaa\\\\Desktop\\\\Pastas Gerais\\\\Pós Tech Data Analytics\\\\Fase 5\\\\Datathon\\\\data\\\\validacao.csv\")"
   ]
  },
  {
   "cell_type": "code",
   "execution_count": 226,
   "metadata": {},
   "outputs": [
    {
     "data": {
      "text/html": [
       "<div>\n",
       "<style scoped>\n",
       "    .dataframe tbody tr th:only-of-type {\n",
       "        vertical-align: middle;\n",
       "    }\n",
       "\n",
       "    .dataframe tbody tr th {\n",
       "        vertical-align: top;\n",
       "    }\n",
       "\n",
       "    .dataframe thead th {\n",
       "        text-align: right;\n",
       "    }\n",
       "</style>\n",
       "<table border=\"1\" class=\"dataframe\">\n",
       "  <thead>\n",
       "    <tr style=\"text-align: right;\">\n",
       "      <th></th>\n",
       "      <th>userId</th>\n",
       "      <th>userType</th>\n",
       "      <th>history</th>\n",
       "      <th>timestampHistory</th>\n",
       "    </tr>\n",
       "  </thead>\n",
       "  <tbody>\n",
       "    <tr>\n",
       "      <th>0</th>\n",
       "      <td>e25fbee3a42d45a2914f9b061df3386b2ded2d8cc1f3d4...</td>\n",
       "      <td>Logged</td>\n",
       "      <td>['be89a7da-d9fa-49d4-9fdc-388c27a15bc8'\\n '01c...</td>\n",
       "      <td>[1660533136590 1660672113513]</td>\n",
       "    </tr>\n",
       "    <tr>\n",
       "      <th>1</th>\n",
       "      <td>d0afad7ea843d86597d822f0df1d39d31a3fea7c39fdee...</td>\n",
       "      <td>Logged</td>\n",
       "      <td>['77901133-aee7-4f7b-afc0-652231d76fe9']</td>\n",
       "      <td>[1660556860253]</td>\n",
       "    </tr>\n",
       "    <tr>\n",
       "      <th>2</th>\n",
       "      <td>755062dd39a48809880cf363b04268c3af2c003088cde0...</td>\n",
       "      <td>Logged</td>\n",
       "      <td>['857aa90f-a7ec-410d-ba82-dfa4f85d4e71']</td>\n",
       "      <td>[1660561649242]</td>\n",
       "    </tr>\n",
       "    <tr>\n",
       "      <th>3</th>\n",
       "      <td>ec1639851d99586c7f4da928deb49187303aec6e3b8d66...</td>\n",
       "      <td>Logged</td>\n",
       "      <td>['b7b90e18-7613-4ca0-a8fc-fd69addfcd85'\\n '835...</td>\n",
       "      <td>[1660533830245 1660540831707 1660542659111 166...</td>\n",
       "    </tr>\n",
       "    <tr>\n",
       "      <th>4</th>\n",
       "      <td>a120515626fe5d12b22b7d5a7c5008912cc69284aa26cc...</td>\n",
       "      <td>Logged</td>\n",
       "      <td>['9c764c3a-f9f8-4fb2-b2c4-6331eaeb3dd6'\\n 'b8e...</td>\n",
       "      <td>[1660548813953 1660572329731 1660594848200]</td>\n",
       "    </tr>\n",
       "  </tbody>\n",
       "</table>\n",
       "</div>"
      ],
      "text/plain": [
       "                                              userId userType  \\\n",
       "0  e25fbee3a42d45a2914f9b061df3386b2ded2d8cc1f3d4...   Logged   \n",
       "1  d0afad7ea843d86597d822f0df1d39d31a3fea7c39fdee...   Logged   \n",
       "2  755062dd39a48809880cf363b04268c3af2c003088cde0...   Logged   \n",
       "3  ec1639851d99586c7f4da928deb49187303aec6e3b8d66...   Logged   \n",
       "4  a120515626fe5d12b22b7d5a7c5008912cc69284aa26cc...   Logged   \n",
       "\n",
       "                                             history  \\\n",
       "0  ['be89a7da-d9fa-49d4-9fdc-388c27a15bc8'\\n '01c...   \n",
       "1           ['77901133-aee7-4f7b-afc0-652231d76fe9']   \n",
       "2           ['857aa90f-a7ec-410d-ba82-dfa4f85d4e71']   \n",
       "3  ['b7b90e18-7613-4ca0-a8fc-fd69addfcd85'\\n '835...   \n",
       "4  ['9c764c3a-f9f8-4fb2-b2c4-6331eaeb3dd6'\\n 'b8e...   \n",
       "\n",
       "                                    timestampHistory  \n",
       "0                      [1660533136590 1660672113513]  \n",
       "1                                    [1660556860253]  \n",
       "2                                    [1660561649242]  \n",
       "3  [1660533830245 1660540831707 1660542659111 166...  \n",
       "4        [1660548813953 1660572329731 1660594848200]  "
      ]
     },
     "execution_count": 226,
     "metadata": {},
     "output_type": "execute_result"
    }
   ],
   "source": [
    "df_val.head()"
   ]
  },
  {
   "cell_type": "markdown",
   "metadata": {},
   "source": [
    "#### ALS"
   ]
  },
  {
   "cell_type": "code",
   "execution_count": 3,
   "metadata": {},
   "outputs": [
    {
     "name": "stderr",
     "output_type": "stream",
     "text": [
      "C:\\Users\\lucaa\\Desktop\\Pastas Gerais\\Pós Tech Data Analytics\\Fase 5\\Datathon\\venv\\lib\\site-packages\\tqdm\\auto.py:21: TqdmWarning: IProgress not found. Please update jupyter and ipywidgets. See https://ipywidgets.readthedocs.io/en/stable/user_install.html\n",
      "  from .autonotebook import tqdm as notebook_tqdm\n"
     ]
    }
   ],
   "source": [
    "import pandas as pd\n",
    "import numpy as np\n",
    "from scipy.sparse import coo_matrix\n",
    "from implicit.als import AlternatingLeastSquares\n",
    "import implicit"
   ]
  },
  {
   "cell_type": "code",
   "execution_count": 4,
   "metadata": {},
   "outputs": [],
   "source": [
    "df = pd.read_csv(\"C:\\\\Users\\\\lucaa\\\\Desktop\\\\Pastas Gerais\\\\Pós Tech Data Analytics\\\\Fase 5\\\\Datathon\\\\data\\\\files\\\\treino\\\\treino_parte1.csv\")"
   ]
  },
  {
   "cell_type": "code",
   "execution_count": 7,
   "metadata": {},
   "outputs": [
    {
     "data": {
      "text/plain": [
       "Index(['userId', 'userType', 'historySize', 'history', 'timestampHistory',\n",
       "       'numberOfClicksHistory', 'timeOnPageHistory', 'scrollPercentageHistory',\n",
       "       'pageVisitsCountHistory', 'timestampHistory_new'],\n",
       "      dtype='object')"
      ]
     },
     "execution_count": 7,
     "metadata": {},
     "output_type": "execute_result"
    }
   ],
   "source": [
    "df.columns"
   ]
  },
  {
   "cell_type": "code",
   "execution_count": null,
   "metadata": {},
   "outputs": [],
   "source": [
    "df_t = pd.DataFrame()\n",
    "for i in range(len(df)):\n",
    "    # user Id\n",
    "    userId = df[\"userId\"].values[i]\n",
    "    d_t = {\"userId\": userId}\n",
    "    for _col in ['history', 'timestampHistory', 'numberOfClicksHistory', 'timeOnPageHistory', 'scrollPercentageHistory']:\n",
    "        \n",
    "        # ajustando valores:\n",
    "        values = df[_col].values[i].split(\",\")\n",
    "        d_t[_col] = values\n",
    "        \n",
    "    df_t = pd.concat([df_t, pd.DataFrame(d_t)])"
   ]
  },
  {
   "cell_type": "code",
   "execution_count": null,
   "metadata": {},
   "outputs": [],
   "source": [
    "df_t.head()"
   ]
  },
  {
   "cell_type": "code",
   "execution_count": 17,
   "metadata": {},
   "outputs": [],
   "source": [
    "df_t = (\n",
    "    df_t\n",
    "    .assign(\n",
    "        numberOfClicksHistory = lambda df_: df_.numberOfClicksHistory.astype(np.int32),\n",
    "        scrollPercentageHistory = lambda df_: df_.scrollPercentageHistory.astype(np.float32),\n",
    "        timeOnPageHistory = lambda df_: df_.timeOnPageHistory.astype(np.int32)\n",
    "    )\n",
    ")"
   ]
  },
  {
   "cell_type": "code",
   "execution_count": 18,
   "metadata": {},
   "outputs": [],
   "source": [
    "df_t[\"interaction_score\"] = (\n",
    "    df_t[\"timeOnPageHistory\"] * 0.5 +  # More time on page = higher interest\n",
    "    df_t[\"scrollPercentageHistory\"] * 0.3 +  # More scrolling = higher engagement\n",
    "    df_t[\"numberOfClicksHistory\"] * 0.2  # More clicks = higher interaction\n",
    ")"
   ]
  },
  {
   "cell_type": "code",
   "execution_count": 20,
   "metadata": {},
   "outputs": [
    {
     "name": "stderr",
     "output_type": "stream",
     "text": [
      "C:\\Users\\lucaa\\AppData\\Local\\Temp\\ipykernel_16500\\1672575828.py:2: FutureWarning: unique with argument that is not not a Series, Index, ExtensionArray, or np.ndarray is deprecated and will raise in a future version.\n",
      "  item_mapping = {i: j for j, i in enumerate(pd.unique(\",\".join(df_t[\"history\"]).split(\", \")))}\n"
     ]
    }
   ],
   "source": [
    "user_mapping = {u: i for i, u in enumerate(df_t[\"userId\"].unique())}\n",
    "item_mapping = {i: j for j, i in enumerate(pd.unique(\",\".join(df_t[\"history\"]).split(\", \")))}"
   ]
  },
  {
   "cell_type": "code",
   "execution_count": 23,
   "metadata": {},
   "outputs": [],
   "source": [
    "df_t[\"user_index\"] = df_t[\"userId\"].map(user_mapping)\n",
    "\n",
    "# 🔹 Transform history column (which is a list) into rows\n",
    "exploded_df = df_t.explode([\"history\", \"interaction_score\"])\n",
    "exploded_df[\"item_index\"] = exploded_df[\"history\"].map(item_mapping)"
   ]
  },
  {
   "cell_type": "code",
   "execution_count": 36,
   "metadata": {},
   "outputs": [],
   "source": [
    "# 🔹 Create Sparse User-Item Matrix\n",
    "rows = exploded_df[\"user_index\"].values\n",
    "cols = exploded_df[\"item_index\"].fillna(0).astype(np.int32).values"
   ]
  },
  {
   "cell_type": "code",
   "execution_count": 39,
   "metadata": {},
   "outputs": [],
   "source": [
    "data = exploded_df[\"interaction_score\"].astype(np.int32).values"
   ]
  },
  {
   "cell_type": "code",
   "execution_count": 40,
   "metadata": {},
   "outputs": [
    {
     "data": {
      "text/plain": [
       "array([10220, 10605, 17732, ...,  5027, 20010,  5003],\n",
       "      shape=(347450,), dtype=int32)"
      ]
     },
     "execution_count": 40,
     "metadata": {},
     "output_type": "execute_result"
    }
   ],
   "source": [
    "data"
   ]
  },
  {
   "cell_type": "code",
   "execution_count": 41,
   "metadata": {},
   "outputs": [],
   "source": [
    "user_item_matrix = coo_matrix((data, (rows, cols)))"
   ]
  },
  {
   "cell_type": "code",
   "execution_count": 42,
   "metadata": {},
   "outputs": [
    {
     "data": {
      "text/plain": [
       "<COOrdinate sparse matrix of dtype 'int32'\n",
       "\twith 347450 stored elements and shape (23582, 55133)>"
      ]
     },
     "execution_count": 42,
     "metadata": {},
     "output_type": "execute_result"
    }
   ],
   "source": [
    "user_item_matrix"
   ]
  },
  {
   "cell_type": "code",
   "execution_count": 43,
   "metadata": {},
   "outputs": [
    {
     "name": "stderr",
     "output_type": "stream",
     "text": [
      "C:\\Users\\lucaa\\Desktop\\Pastas Gerais\\Pós Tech Data Analytics\\Fase 5\\Datathon\\venv\\lib\\site-packages\\implicit\\cpu\\als.py:95: RuntimeWarning: OpenBLAS is configured to use 6 threads. It is highly recommended to disable its internal threadpool by setting the environment variable 'OPENBLAS_NUM_THREADS=1' or by calling 'threadpoolctl.threadpool_limits(1, \"blas\")'. Having OpenBLAS use a threadpool can lead to severe performance issues here.\n",
      "  check_blas_config()\n",
      "C:\\Users\\lucaa\\Desktop\\Pastas Gerais\\Pós Tech Data Analytics\\Fase 5\\Datathon\\venv\\lib\\site-packages\\implicit\\utils.py:164: ParameterWarning: Method expects CSR input, and was passed coo_matrix instead. Converting to CSR took 0.006756782531738281 seconds\n",
      "  warnings.warn(\n",
      "100%|███████████████████████████████████████████████████████████████████████████████████████████████████████████████████████████████████████████████████████████████████████████████████████████████████| 20/20 [00:01<00:00, 19.26it/s]\n"
     ]
    }
   ],
   "source": [
    "# 🔹 Train ALS Model\n",
    "als_model = AlternatingLeastSquares(factors=50, regularization=0.1, iterations=20)\n",
    "als_model.fit(user_item_matrix)"
   ]
  },
  {
   "cell_type": "code",
   "execution_count": 44,
   "metadata": {},
   "outputs": [],
   "source": [
    "# 🔹 Function to Recommend News for a User\n",
    "def recommend_news(user_id, top_n=5):\n",
    "    if user_id not in user_mapping:\n",
    "        return \"User not found\"\n",
    "    \n",
    "    user_idx = user_mapping[user_id]\n",
    "    recommended_items = als_model.recommend(user_idx, user_item_matrix, N=top_n)\n",
    "    \n",
    "    recommended_news = [list(item_mapping.keys())[list(item_mapping.values()).index(item)] for item, score in recommended_items]\n",
    "    return recommended_news"
   ]
  },
  {
   "cell_type": "code",
   "execution_count": 46,
   "metadata": {},
   "outputs": [],
   "source": [
    "user_to_recommend = \"f98d1132f60d46883ce49583257104d15ce723b3bbda2147c1e31ac76f0bf069\""
   ]
  },
  {
   "cell_type": "code",
   "execution_count": 51,
   "metadata": {},
   "outputs": [
    {
     "name": "stderr",
     "output_type": "stream",
     "text": [
      "C:\\Users\\lucaa\\Desktop\\Pastas Gerais\\Pós Tech Data Analytics\\Fase 5\\Datathon\\venv\\lib\\site-packages\\implicit\\utils.py:164: ParameterWarning: Method expects CSR input, and was passed csc_matrix instead. Converting to CSR took 0.02097153663635254 seconds\n",
      "  warnings.warn(\n",
      "100%|███████████████████████████████████████████████████████████████████████████████████████████████████████████████████████████████████████████████████████████████████████████████████████████████████| 20/20 [00:08<00:00,  2.43it/s]\n"
     ]
    },
    {
     "ename": "ValueError",
     "evalue": "user_items must contain 1 row for every user in userids",
     "output_type": "error",
     "traceback": [
      "\u001b[1;31m---------------------------------------------------------------------------\u001b[0m",
      "\u001b[1;31mValueError\u001b[0m                                Traceback (most recent call last)",
      "Cell \u001b[1;32mIn[51], line 33\u001b[0m\n\u001b[0;32m     31\u001b[0m \u001b[38;5;66;03m# 🔹 Example: Recommend 5 news articles for a user\u001b[39;00m\n\u001b[0;32m     32\u001b[0m user_to_recommend \u001b[38;5;241m=\u001b[39m \u001b[38;5;124m\"\u001b[39m\u001b[38;5;124mf98d1132f60d46883ce49583257104d15ce723b3bbda2147c1e31ac76f0bf069\u001b[39m\u001b[38;5;124m\"\u001b[39m\n\u001b[1;32m---> 33\u001b[0m \u001b[38;5;28mprint\u001b[39m(\u001b[43mrecommend_news\u001b[49m\u001b[43m(\u001b[49m\u001b[43muser_to_recommend\u001b[49m\u001b[43m)\u001b[49m)\n",
      "Cell \u001b[1;32mIn[51], line 26\u001b[0m, in \u001b[0;36mrecommend_news\u001b[1;34m(user_id, top_n)\u001b[0m\n\u001b[0;32m     23\u001b[0m     \u001b[38;5;28;01mreturn\u001b[39;00m \u001b[38;5;124m\"\u001b[39m\u001b[38;5;124mUser not found\u001b[39m\u001b[38;5;124m\"\u001b[39m\n\u001b[0;32m     25\u001b[0m user_idx \u001b[38;5;241m=\u001b[39m user_mapping[user_id]\n\u001b[1;32m---> 26\u001b[0m recommended_items \u001b[38;5;241m=\u001b[39m \u001b[43mals_model\u001b[49m\u001b[38;5;241;43m.\u001b[39;49m\u001b[43mrecommend\u001b[49m\u001b[43m(\u001b[49m\u001b[43muser_idx\u001b[49m\u001b[43m,\u001b[49m\u001b[43m \u001b[49m\u001b[43muser_item_matrix\u001b[49m\u001b[43m,\u001b[49m\u001b[43m \u001b[49m\u001b[43mN\u001b[49m\u001b[38;5;241;43m=\u001b[39;49m\u001b[43mtop_n\u001b[49m\u001b[43m)\u001b[49m\n\u001b[0;32m     28\u001b[0m recommended_news \u001b[38;5;241m=\u001b[39m [\u001b[38;5;28mlist\u001b[39m(item_mapping\u001b[38;5;241m.\u001b[39mkeys())[\u001b[38;5;28mlist\u001b[39m(item_mapping\u001b[38;5;241m.\u001b[39mvalues())\u001b[38;5;241m.\u001b[39mindex(item)] \u001b[38;5;28;01mfor\u001b[39;00m item, score \u001b[38;5;129;01min\u001b[39;00m recommended_items]\n\u001b[0;32m     29\u001b[0m \u001b[38;5;28;01mreturn\u001b[39;00m recommended_news\n",
      "File \u001b[1;32m~\\Desktop\\Pastas Gerais\\Pós Tech Data Analytics\\Fase 5\\Datathon\\venv\\lib\\site-packages\\implicit\\cpu\\matrix_factorization_base.py:49\u001b[0m, in \u001b[0;36mMatrixFactorizationBase.recommend\u001b[1;34m(self, userid, user_items, N, filter_already_liked_items, filter_items, recalculate_user, items)\u001b[0m\n\u001b[0;32m     47\u001b[0m     user_count \u001b[38;5;241m=\u001b[39m \u001b[38;5;241m1\u001b[39m \u001b[38;5;28;01mif\u001b[39;00m np\u001b[38;5;241m.\u001b[39misscalar(userid) \u001b[38;5;28;01melse\u001b[39;00m \u001b[38;5;28mlen\u001b[39m(userid)\n\u001b[0;32m     48\u001b[0m     \u001b[38;5;28;01mif\u001b[39;00m user_items\u001b[38;5;241m.\u001b[39mshape[\u001b[38;5;241m0\u001b[39m] \u001b[38;5;241m!=\u001b[39m user_count:\n\u001b[1;32m---> 49\u001b[0m         \u001b[38;5;28;01mraise\u001b[39;00m \u001b[38;5;167;01mValueError\u001b[39;00m(\u001b[38;5;124m\"\u001b[39m\u001b[38;5;124muser_items must contain 1 row for every user in userids\u001b[39m\u001b[38;5;124m\"\u001b[39m)\n\u001b[0;32m     51\u001b[0m user \u001b[38;5;241m=\u001b[39m \u001b[38;5;28mself\u001b[39m\u001b[38;5;241m.\u001b[39m_user_factor(userid, user_items, recalculate_user)\n\u001b[0;32m     53\u001b[0m item_factors \u001b[38;5;241m=\u001b[39m \u001b[38;5;28mself\u001b[39m\u001b[38;5;241m.\u001b[39mitem_factors\n",
      "\u001b[1;31mValueError\u001b[0m: user_items must contain 1 row for every user in userids"
     ]
    }
   ],
   "source": [
    "\n",
    "# 🔹 Convert userId and history (news IDs) to integer indices\n",
    "user_mapping = {u: i for i, u in enumerate(df[\"userId\"].unique())}\n",
    "item_mapping = {i: j for j, i in enumerate(df[\"history\"].unique())}\n",
    "\n",
    "df[\"user_index\"] = df[\"userId\"].map(user_mapping)\n",
    "df[\"item_index\"] = df[\"history\"].map(item_mapping)\n",
    "\n",
    "# 🔹 Create Sparse User-Item Matrix (CSR Format)\n",
    "rows = df[\"user_index\"].values\n",
    "cols = df[\"item_index\"].values\n",
    "data = df[\"interaction_score\"].values\n",
    "\n",
    "# Convert to CSR matrix\n",
    "user_item_matrix = csr_matrix((data, (rows, cols)), shape=(len(user_mapping), len(item_mapping)))\n",
    "\n",
    "# 🔹 Train ALS Model\n",
    "als_model = AlternatingLeastSquares(factors=50, regularization=0.1, iterations=20)\n",
    "als_model.fit(user_item_matrix.T)  # Transposing for correct dimensions\n",
    "\n",
    "# 🔹 Function to Recommend News for a User\n",
    "def recommend_news(user_id, top_n=5):\n",
    "    if user_id not in user_mapping:\n",
    "        return \"User not found\"\n",
    "    \n",
    "    user_idx = user_mapping[user_id]\n",
    "    recommended_items = als_model.recommend(user_idx, user_item_matrix, N=top_n)\n",
    "    \n",
    "    recommended_news = [list(item_mapping.keys())[list(item_mapping.values()).index(item)] for item, score in recommended_items]\n",
    "    return recommended_news\n",
    "\n",
    "# 🔹 Example: Recommend 5 news articles for a user\n",
    "user_to_recommend = \"f98d1132f60d46883ce49583257104d15ce723b3bbda2147c1e31ac76f0bf069\"\n",
    "print(recommend_news(user_to_recommend))\n"
   ]
  },
  {
   "cell_type": "code",
   "execution_count": null,
   "metadata": {},
   "outputs": [],
   "source": []
  }
 ],
 "metadata": {
  "kernelspec": {
   "display_name": "venv",
   "language": "python",
   "name": "venv"
  },
  "language_info": {
   "codemirror_mode": {
    "name": "ipython",
    "version": 3
   },
   "file_extension": ".py",
   "mimetype": "text/x-python",
   "name": "python",
   "nbconvert_exporter": "python",
   "pygments_lexer": "ipython3",
   "version": "3.10.1"
  }
 },
 "nbformat": 4,
 "nbformat_minor": 4
}
