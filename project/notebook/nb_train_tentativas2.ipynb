{
 "cells": [
  {
   "cell_type": "markdown",
   "id": "eaa75cb4-df49-42ce-9d9c-8e758acb703e",
   "metadata": {},
   "source": [
    "### Treinando ALS - Tentativa para Rating Implicito"
   ]
  },
  {
   "cell_type": "markdown",
   "id": "5ccf4c87-583b-4a02-9662-1d6d5f075638",
   "metadata": {},
   "source": [
    "Vamos tentar utilizar um modelo de ALS dado que não temos feedback explicito das nossas recomendações e estaos trabalhando com um dataset relativamente grande o que pode nos ajudar no treinamento. "
   ]
  },
  {
   "cell_type": "code",
   "execution_count": 1,
   "id": "ae23c1f6-a708-4406-979e-da52da9ad9b3",
   "metadata": {},
   "outputs": [
    {
     "name": "stderr",
     "output_type": "stream",
     "text": [
      "C:\\Users\\lucaa\\Desktop\\Pastas Gerais\\Pós Tech Data Analytics\\Fase 5\\Datathon\\venv\\lib\\site-packages\\tqdm\\auto.py:21: TqdmWarning: IProgress not found. Please update jupyter and ipywidgets. See https://ipywidgets.readthedocs.io/en/stable/user_install.html\n",
      "  from .autonotebook import tqdm as notebook_tqdm\n"
     ]
    }
   ],
   "source": [
    "# Libs:\n",
    "import polars as pl\n",
    "import numpy as np\n",
    "from implicit.als import AlternatingLeastSquares\n",
    "from implicit.evaluation import precision_at_k, mean_average_precision_at_k\n",
    "from sklearn.model_selection import train_test_split\n",
    "import scipy.sparse as sparse\n",
    "import os"
   ]
  },
  {
   "cell_type": "code",
   "execution_count": 2,
   "id": "d5a4a7a8-0b22-4c33-8510-2b0436e82922",
   "metadata": {},
   "outputs": [],
   "source": [
    "# Não é recomendado rsrs\n",
    "import warnings\n",
    "warnings.filterwarnings(\"ignore\")"
   ]
  },
  {
   "cell_type": "markdown",
   "id": "76adc869-2ab8-4507-884e-bbad03292ff1",
   "metadata": {},
   "source": [
    "### Pré Processamento de Dados"
   ]
  },
  {
   "cell_type": "code",
   "execution_count": 3,
   "id": "41f4dbc8-69af-4c73-b074-ee7449e3ff08",
   "metadata": {},
   "outputs": [
    {
     "name": "stdout",
     "output_type": "stream",
     "text": [
      "Arquivo treino_parte1: shape (100000, 10)\n",
      "Arquivo treino_parte2: shape (100000, 10)\n",
      "Arquivo treino_parte3: shape (100000, 10)\n",
      "Arquivo treino_parte4: shape (100000, 10)\n",
      "Arquivo treino_parte5: shape (100000, 10)\n",
      "Arquivo treino_parte6: shape (77942, 10)\n",
      "Full df: (577942, 10)\n"
     ]
    }
   ],
   "source": [
    "# Looping os conj. de treino:\n",
    "path = \"C:\\\\Users\\\\lucaa\\\\Desktop\\\\Pastas Gerais\\\\Pós Tech Data Analytics\\\\Fase 5\\\\Datathon\\\\data\\\\files\\\\treino\\\\\"\n",
    "df_full = pl.DataFrame()\n",
    "for file in os.listdir(path):\n",
    "    if file.__contains__(\"csv\"):\n",
    "        df = pl.read_csv(f\"{path}{file}\", ignore_errors = True, schema = {\n",
    "            'userId': pl.String,\n",
    "            'userType': pl.String,\n",
    "            'historySize': pl.String,\n",
    "            'history': pl.String,\n",
    "            'timestampHistory': pl.String,\n",
    "            'numberOfClicksHistory': pl.String,\n",
    "            'timeOnPageHistory': pl.String,\n",
    "            'scrollPercentageHistory': pl.String,\n",
    "            'pageVisitsCountHistory': pl.String,\n",
    "            'timestampHistory_new': pl.String\n",
    "        }, truncate_ragged_lines=True)\n",
    "        print(f\"Arquivo {file.replace('.csv', '')}: shape {df.shape}\")\n",
    "        \n",
    "        # Concat dfs:\n",
    "        df_full = pl.concat([df_full, df])\n",
    "        del df\n",
    "\n",
    "print(f\"Full df: {df_full.shape}\")"
   ]
  },
  {
   "cell_type": "code",
   "execution_count": 4,
   "id": "2948f586-8701-4125-8fcc-feab0cb0289f",
   "metadata": {},
   "outputs": [
    {
     "data": {
      "text/html": [
       "<div><style>\n",
       ".dataframe > thead > tr,\n",
       ".dataframe > tbody > tr {\n",
       "  text-align: right;\n",
       "  white-space: pre-wrap;\n",
       "}\n",
       "</style>\n",
       "<small>shape: (5, 10)</small><table border=\"1\" class=\"dataframe\"><thead><tr><th>userId</th><th>userType</th><th>historySize</th><th>history</th><th>timestampHistory</th><th>numberOfClicksHistory</th><th>timeOnPageHistory</th><th>scrollPercentageHistory</th><th>pageVisitsCountHistory</th><th>timestampHistory_new</th></tr><tr><td>str</td><td>str</td><td>str</td><td>str</td><td>str</td><td>str</td><td>str</td><td>str</td><td>str</td><td>str</td></tr></thead><tbody><tr><td>&quot;f98d1132f60d46883ce49583257104…</td><td>&quot;Non-Logged&quot;</td><td>&quot;3&quot;</td><td>&quot;c8aab885-433d-4e46-8066-479f40…</td><td>&quot;1657146417045, 1657146605778, …</td><td>&quot;76, 38, 41&quot;</td><td>&quot;20380, 21184, 35438&quot;</td><td>&quot;50.3, 18.18, 16.46&quot;</td><td>&quot;2, 1, 1&quot;</td><td>&quot;1657146417045, 1657146605778, …</td></tr><tr><td>&quot;2c1080975e257ed630e26679edbe4d…</td><td>&quot;Non-Logged&quot;</td><td>&quot;60&quot;</td><td>&quot;3325b5a1-979a-4cb3-82b6-63905c…</td><td>&quot;1656684240278, 1656761266729, …</td><td>&quot;7, 80, 2, 1, 7, 62, 26, 44, 4,…</td><td>&quot;6049, 210489, 8672, 10000, 300…</td><td>&quot;25.35, 45.66, 35.3, 28.05, 36.…</td><td>&quot;1, 1, 1, 1, 1, 1, 1, 1, 1, 2, …</td><td>&quot;1656684240278, 1656761266729, …</td></tr><tr><td>&quot;0adffd7450d3b9840d8c6215f0569a…</td><td>&quot;Logged&quot;</td><td>&quot;107&quot;</td><td>&quot;04756569-593e-4133-a95a-83d35d…</td><td>&quot;1656678946256, 1656701076495, …</td><td>&quot;0, 0, 0, 0, 0, 44, 0, 0, 2, 1,…</td><td>&quot;311274, 140000, 32515, 157018,…</td><td>&quot;67.58, 47.22, 41.52, 63.09, 51…</td><td>&quot;1, 1, 1, 1, 1, 1, 1, 1, 2, 1, …</td><td>&quot;1656678946256, 1656701076495, …</td></tr><tr><td>&quot;c1e8d644329a78ea1f994292db624c…</td><td>&quot;Non-Logged&quot;</td><td>&quot;56&quot;</td><td>&quot;1f2b9c2f-a2d2-4192-b009-09065d…</td><td>&quot;1658333312180, 1658404553818, …</td><td>&quot;8, 0, 0, 0, 0, 0, 1, 0, 0, 1, …</td><td>&quot;182696, 91925, 30000, 273655, …</td><td>&quot;58.26, 72.66, 22.57, 59.89, 40…</td><td>&quot;1, 1, 1, 1, 1, 1, 1, 1, 1, 1, …</td><td>&quot;1658333312180, 1658404553818, …</td></tr><tr><td>&quot;e777d1f31d4d955b63d60acc13df33…</td><td>&quot;Non-Logged&quot;</td><td>&quot;4&quot;</td><td>&quot;bebdeb3e-1699-43e0-a1b8-989f5a…</td><td>&quot;1658766608801, 1658766608801, …</td><td>&quot;579, 579, 7, 2&quot;</td><td>&quot;801396, 801396, 10000, 10000&quot;</td><td>&quot;78.74, 78.74, 16.71, 9.34&quot;</td><td>&quot;7, 7, 1, 1&quot;</td><td>&quot;1658766608801, 1658766608801, …</td></tr></tbody></table></div>"
      ],
      "text/plain": [
       "shape: (5, 10)\n",
       "┌──────────────────────────────────┬────────────┬─────────────┬─────────────────────────────────┬───┬─────────────────────────────────┬─────────────────────────────┬─────────────────────────────────┬─────────────────────────────────┐\n",
       "│ userId                           ┆ userType   ┆ historySize ┆ history                         ┆ … ┆ timeOnPageHistory               ┆ scrollPercentageHistory     ┆ pageVisitsCountHistory          ┆ timestampHistory_new            │\n",
       "│ ---                              ┆ ---        ┆ ---         ┆ ---                             ┆   ┆ ---                             ┆ ---                         ┆ ---                             ┆ ---                             │\n",
       "│ str                              ┆ str        ┆ str         ┆ str                             ┆   ┆ str                             ┆ str                         ┆ str                             ┆ str                             │\n",
       "╞══════════════════════════════════╪════════════╪═════════════╪═════════════════════════════════╪═══╪═════════════════════════════════╪═════════════════════════════╪═════════════════════════════════╪═════════════════════════════════╡\n",
       "│ f98d1132f60d46883ce49583257104…  ┆ Non-Logged ┆ 3           ┆ c8aab885-433d-4e46-8066-479f40… ┆ … ┆ 20380, 21184, 35438             ┆ 50.3, 18.18, 16.46          ┆ 2, 1, 1                         ┆ 1657146417045, 1657146605778, … │\n",
       "│ 2c1080975e257ed630e26679edbe4d…  ┆ Non-Logged ┆ 60          ┆ 3325b5a1-979a-4cb3-82b6-63905c… ┆ … ┆ 6049, 210489, 8672, 10000, 300… ┆ 25.35, 45.66, 35.3, 28.05,  ┆ 1, 1, 1, 1, 1, 1, 1, 1, 1, 2, … ┆ 1656684240278, 1656761266729, … │\n",
       "│                                  ┆            ┆             ┆                                 ┆   ┆                                 ┆ 36.…                        ┆                                 ┆                                 │\n",
       "│ 0adffd7450d3b9840d8c6215f0569a…  ┆ Logged     ┆ 107         ┆ 04756569-593e-4133-a95a-83d35d… ┆ … ┆ 311274, 140000, 32515, 157018,… ┆ 67.58, 47.22, 41.52, 63.09, ┆ 1, 1, 1, 1, 1, 1, 1, 1, 2, 1, … ┆ 1656678946256, 1656701076495, … │\n",
       "│                                  ┆            ┆             ┆                                 ┆   ┆                                 ┆ 51…                         ┆                                 ┆                                 │\n",
       "│ c1e8d644329a78ea1f994292db624c…  ┆ Non-Logged ┆ 56          ┆ 1f2b9c2f-a2d2-4192-b009-09065d… ┆ … ┆ 182696, 91925, 30000, 273655, … ┆ 58.26, 72.66, 22.57, 59.89, ┆ 1, 1, 1, 1, 1, 1, 1, 1, 1, 1, … ┆ 1658333312180, 1658404553818, … │\n",
       "│                                  ┆            ┆             ┆                                 ┆   ┆                                 ┆ 40…                         ┆                                 ┆                                 │\n",
       "│ e777d1f31d4d955b63d60acc13df33…  ┆ Non-Logged ┆ 4           ┆ bebdeb3e-1699-43e0-a1b8-989f5a… ┆ … ┆ 801396, 801396, 10000, 10000    ┆ 78.74, 78.74, 16.71, 9.34   ┆ 7, 7, 1, 1                      ┆ 1658766608801, 1658766608801, … │\n",
       "└──────────────────────────────────┴────────────┴─────────────┴─────────────────────────────────┴───┴─────────────────────────────────┴─────────────────────────────┴─────────────────────────────────┴─────────────────────────────────┘"
      ]
     },
     "execution_count": 4,
     "metadata": {},
     "output_type": "execute_result"
    }
   ],
   "source": [
    "df_full.head()"
   ]
  },
  {
   "cell_type": "code",
   "execution_count": 21,
   "id": "5e3500c4-cc6c-4e5b-beeb-e723462d17f1",
   "metadata": {},
   "outputs": [],
   "source": [
    "# Convertendo as infos para listas para facilitar posteriormente: \n",
    "df_full = (\n",
    "    df_full\n",
    "    .with_columns([\n",
    "        pl.col(\"history\").str.replace(r\"\\s+\", \"\").str.split(\",\").alias(\"history_items\"),\n",
    "        pl.col(\"timestampHistory\").str.replace(r\"\\s+\", \"\").str.split(\",\").alias(\"ts_items\"),\n",
    "        pl.col(\"numberOfClicksHistory\").str.replace(r\"\\s+\", \"\").str.split(\",\").map_elements(lambda x: [int(i) for i in x]).alias(\"clicks\"),\n",
    "        pl.col(\"timeOnPageHistory\").str.replace(r\"\\s+\", \"\").str.split(\",\").map_elements(lambda x: [int(i) for i in x]).alias(\"timeOnPage\"),\n",
    "        pl.col(\"scrollPercentageHistory\").str.replace(r\"\\s+\", \"\").str.split(\",\").map_elements(lambda x: [float(i) for i in x]).alias(\"scrollPercentage\")\n",
    "    ])\n",
    ")"
   ]
  },
  {
   "cell_type": "code",
   "execution_count": 22,
   "id": "7bd2744c-4f6a-4a64-9029-75bfc3e53f1a",
   "metadata": {},
   "outputs": [
    {
     "data": {
      "text/html": [
       "<div><style>\n",
       ".dataframe > thead > tr,\n",
       ".dataframe > tbody > tr {\n",
       "  text-align: right;\n",
       "  white-space: pre-wrap;\n",
       "}\n",
       "</style>\n",
       "<small>shape: (2, 15)</small><table border=\"1\" class=\"dataframe\"><thead><tr><th>userId</th><th>userType</th><th>historySize</th><th>history</th><th>timestampHistory</th><th>numberOfClicksHistory</th><th>timeOnPageHistory</th><th>scrollPercentageHistory</th><th>pageVisitsCountHistory</th><th>timestampHistory_new</th><th>history_items</th><th>clicks</th><th>timeOnPage</th><th>scrollPercentage</th><th>ts_items</th></tr><tr><td>str</td><td>str</td><td>str</td><td>str</td><td>str</td><td>str</td><td>str</td><td>str</td><td>str</td><td>str</td><td>list[str]</td><td>list[i64]</td><td>list[i64]</td><td>list[f64]</td><td>list[str]</td></tr></thead><tbody><tr><td>&quot;f98d1132f60d46883ce49583257104…</td><td>&quot;Non-Logged&quot;</td><td>&quot;3&quot;</td><td>&quot;c8aab885-433d-4e46-8066-479f40…</td><td>&quot;1657146417045, 1657146605778, …</td><td>&quot;76, 38, 41&quot;</td><td>&quot;20380, 21184, 35438&quot;</td><td>&quot;50.3, 18.18, 16.46&quot;</td><td>&quot;2, 1, 1&quot;</td><td>&quot;1657146417045, 1657146605778, …</td><td>[&quot;c8aab885-433d-4e46-8066-479f40ba7fb2&quot;, &quot;68d2039c-c9aa-456c-ac33-9b2e8677fba7&quot;, &quot; 13e423ce-1d69-4c78-bc18-e8c8f7271964&quot;]</td><td>[76, 38, 41]</td><td>[20380, 21184, 35438]</td><td>[50.3, 18.18, 16.46]</td><td>[&quot;1657146417045&quot;, &quot;1657146605778&quot;, &quot; 1657146698738&quot;]</td></tr><tr><td>&quot;2c1080975e257ed630e26679edbe4d…</td><td>&quot;Non-Logged&quot;</td><td>&quot;60&quot;</td><td>&quot;3325b5a1-979a-4cb3-82b6-63905c…</td><td>&quot;1656684240278, 1656761266729, …</td><td>&quot;7, 80, 2, 1, 7, 62, 26, 44, 4,…</td><td>&quot;6049, 210489, 8672, 10000, 300…</td><td>&quot;25.35, 45.66, 35.3, 28.05, 36.…</td><td>&quot;1, 1, 1, 1, 1, 1, 1, 1, 1, 2, …</td><td>&quot;1656684240278, 1656761266729, …</td><td>[&quot;3325b5a1-979a-4cb3-82b6-63905c9edbe8&quot;, &quot;fe856057-f97d-419f-ab1c-97c5c3e0719c&quot;, … &quot; 64e763a0-e086-4c41-b578-e72041d3da7c&quot;]</td><td>[7, 80, … 5]</td><td>[6049, 210489, … 14231]</td><td>[25.35, 45.66, … 25.99]</td><td>[&quot;1656684240278&quot;, &quot;1656761266729&quot;, … &quot; 1660518708052&quot;]</td></tr></tbody></table></div>"
      ],
      "text/plain": [
       "shape: (2, 15)\n",
       "┌─────────────────────────────────┬────────────┬─────────────┬─────────────────────────────────┬───┬──────────────┬─────────────────────────┬─────────────────────────┬─────────────────────────────────┐\n",
       "│ userId                          ┆ userType   ┆ historySize ┆ history                         ┆ … ┆ clicks       ┆ timeOnPage              ┆ scrollPercentage        ┆ ts_items                        │\n",
       "│ ---                             ┆ ---        ┆ ---         ┆ ---                             ┆   ┆ ---          ┆ ---                     ┆ ---                     ┆ ---                             │\n",
       "│ str                             ┆ str        ┆ str         ┆ str                             ┆   ┆ list[i64]    ┆ list[i64]               ┆ list[f64]               ┆ list[str]                       │\n",
       "╞═════════════════════════════════╪════════════╪═════════════╪═════════════════════════════════╪═══╪══════════════╪═════════════════════════╪═════════════════════════╪═════════════════════════════════╡\n",
       "│ f98d1132f60d46883ce49583257104… ┆ Non-Logged ┆ 3           ┆ c8aab885-433d-4e46-8066-479f40… ┆ … ┆ [76, 38, 41] ┆ [20380, 21184, 35438]   ┆ [50.3, 18.18, 16.46]    ┆ [\"1657146417045\", \"16571466057… │\n",
       "│ 2c1080975e257ed630e26679edbe4d… ┆ Non-Logged ┆ 60          ┆ 3325b5a1-979a-4cb3-82b6-63905c… ┆ … ┆ [7, 80, … 5] ┆ [6049, 210489, … 14231] ┆ [25.35, 45.66, … 25.99] ┆ [\"1656684240278\", \"16567612667… │\n",
       "└─────────────────────────────────┴────────────┴─────────────┴─────────────────────────────────┴───┴──────────────┴─────────────────────────┴─────────────────────────┴─────────────────────────────────┘"
      ]
     },
     "execution_count": 22,
     "metadata": {},
     "output_type": "execute_result"
    }
   ],
   "source": [
    "df_full.head(2)"
   ]
  },
  {
   "cell_type": "code",
   "execution_count": 7,
   "id": "b2dc7806-f718-47eb-9101-2a4ad8a28d8c",
   "metadata": {},
   "outputs": [],
   "source": [
    "# Criando os objetos de user-item:\n",
    "user_item_inter = []\n",
    "for _row in df_full.iter_rows(named=True):\n",
    "    user_id = _row['userId']\n",
    "    for idx, item_id in enumerate(_row['history_items']):\n",
    "        if idx < len(_row['clicks']) and idx < len(_row['timeOnPage']) and idx < len(_row['scrollPercentage']):\n",
    "            user_item_inter.append({\n",
    "                'userId': user_id,\n",
    "                'itemId': item_id,\n",
    "                'clicks': _row['clicks'][idx],\n",
    "                'timeOnPage': _row['timeOnPage'][idx],\n",
    "                'scrollPercentage': _row['scrollPercentage'][idx]\n",
    "            })"
   ]
  },
  {
   "cell_type": "code",
   "execution_count": 8,
   "id": "da37c22a-9abf-4717-a757-963407602654",
   "metadata": {},
   "outputs": [
    {
     "data": {
      "text/plain": [
       "8123951"
      ]
     },
     "execution_count": 8,
     "metadata": {},
     "output_type": "execute_result"
    }
   ],
   "source": [
    "len(user_item_inter)"
   ]
  },
  {
   "cell_type": "code",
   "execution_count": 9,
   "id": "1d459c9a-2481-44a1-bd90-dbd92399cd2f",
   "metadata": {},
   "outputs": [
    {
     "data": {
      "text/plain": [
       "[{'userId': 'f98d1132f60d46883ce49583257104d15ce723b3bbda2147c1e31ac76f0bf069',\n",
       "  'itemId': 'c8aab885-433d-4e46-8066-479f40ba7fb2',\n",
       "  'clicks': 76,\n",
       "  'timeOnPage': 20380,\n",
       "  'scrollPercentage': 50.3},\n",
       " {'userId': 'f98d1132f60d46883ce49583257104d15ce723b3bbda2147c1e31ac76f0bf069',\n",
       "  'itemId': '68d2039c-c9aa-456c-ac33-9b2e8677fba7',\n",
       "  'clicks': 38,\n",
       "  'timeOnPage': 21184,\n",
       "  'scrollPercentage': 18.18},\n",
       " {'userId': 'f98d1132f60d46883ce49583257104d15ce723b3bbda2147c1e31ac76f0bf069',\n",
       "  'itemId': ' 13e423ce-1d69-4c78-bc18-e8c8f7271964',\n",
       "  'clicks': 41,\n",
       "  'timeOnPage': 35438,\n",
       "  'scrollPercentage': 16.46},\n",
       " {'userId': '2c1080975e257ed630e26679edbe4d5c850c65f3e09f655798b0bba9b42f2110',\n",
       "  'itemId': '3325b5a1-979a-4cb3-82b6-63905c9edbe8',\n",
       "  'clicks': 7,\n",
       "  'timeOnPage': 6049,\n",
       "  'scrollPercentage': 25.35}]"
      ]
     },
     "execution_count": 9,
     "metadata": {},
     "output_type": "execute_result"
    }
   ],
   "source": [
    "user_item_inter[0:4]"
   ]
  },
  {
   "cell_type": "code",
   "execution_count": 10,
   "id": "796b38ea-951d-4bc5-97b8-754389d26ea4",
   "metadata": {},
   "outputs": [],
   "source": [
    "# Convertendo tudo para uma df:\n",
    "df_user_item_inter = pl.DataFrame(user_item_inter, schema = {\n",
    "    \"userId\": pl.String,\n",
    "    \"itemId\": pl.String,\n",
    "    \"clicks\": pl.Int32,\n",
    "    \"timeOnPage\": pl.Int32,\n",
    "    \"scrollPercentage\": pl.Float32,\n",
    "    \"rating\": pl.Float32\n",
    "})"
   ]
  },
  {
   "cell_type": "code",
   "execution_count": 11,
   "id": "6bf4e56e-d852-4efb-bb3f-068c89e3c907",
   "metadata": {},
   "outputs": [
    {
     "data": {
      "text/html": [
       "<div><style>\n",
       ".dataframe > thead > tr,\n",
       ".dataframe > tbody > tr {\n",
       "  text-align: right;\n",
       "  white-space: pre-wrap;\n",
       "}\n",
       "</style>\n",
       "<small>shape: (3, 6)</small><table border=\"1\" class=\"dataframe\"><thead><tr><th>userId</th><th>itemId</th><th>clicks</th><th>timeOnPage</th><th>scrollPercentage</th><th>rating</th></tr><tr><td>str</td><td>str</td><td>i32</td><td>i32</td><td>f32</td><td>f32</td></tr></thead><tbody><tr><td>&quot;f98d1132f60d46883ce49583257104…</td><td>&quot;c8aab885-433d-4e46-8066-479f40…</td><td>76</td><td>20380</td><td>50.299999</td><td>null</td></tr><tr><td>&quot;f98d1132f60d46883ce49583257104…</td><td>&quot;68d2039c-c9aa-456c-ac33-9b2e86…</td><td>38</td><td>21184</td><td>18.18</td><td>null</td></tr><tr><td>&quot;f98d1132f60d46883ce49583257104…</td><td>&quot; 13e423ce-1d69-4c78-bc18-e8c8f…</td><td>41</td><td>35438</td><td>16.459999</td><td>null</td></tr></tbody></table></div>"
      ],
      "text/plain": [
       "shape: (3, 6)\n",
       "┌─────────────────────────────────┬─────────────────────────────────┬────────┬────────────┬──────────────────┬────────┐\n",
       "│ userId                          ┆ itemId                          ┆ clicks ┆ timeOnPage ┆ scrollPercentage ┆ rating │\n",
       "│ ---                             ┆ ---                             ┆ ---    ┆ ---        ┆ ---              ┆ ---    │\n",
       "│ str                             ┆ str                             ┆ i32    ┆ i32        ┆ f32              ┆ f32    │\n",
       "╞═════════════════════════════════╪═════════════════════════════════╪════════╪════════════╪══════════════════╪════════╡\n",
       "│ f98d1132f60d46883ce49583257104… ┆ c8aab885-433d-4e46-8066-479f40… ┆ 76     ┆ 20380      ┆ 50.299999        ┆ null   │\n",
       "│ f98d1132f60d46883ce49583257104… ┆ 68d2039c-c9aa-456c-ac33-9b2e86… ┆ 38     ┆ 21184      ┆ 18.18            ┆ null   │\n",
       "│ f98d1132f60d46883ce49583257104… ┆  13e423ce-1d69-4c78-bc18-e8c8f… ┆ 41     ┆ 35438      ┆ 16.459999        ┆ null   │\n",
       "└─────────────────────────────────┴─────────────────────────────────┴────────┴────────────┴──────────────────┴────────┘"
      ]
     },
     "execution_count": 11,
     "metadata": {},
     "output_type": "execute_result"
    }
   ],
   "source": [
    "df_user_item_inter.head(3)"
   ]
  },
  {
   "cell_type": "markdown",
   "id": "c2302199-4f84-4c01-a0a4-0163896e43e2",
   "metadata": {},
   "source": [
    "Para podemos utilizar no modelo vamos criar uma euristica implicita para avaliar as recomendações e os itens que foram \"avaliados\" pelos usuários. Uma das formas de fazermos isso seria avaliar através das outras variáveis que servem como um medidor da qualidade da recomendação e daquela interação do usuário com a matério. Vamos criar um rating que leva em considerações os clicks na página, o tempo em que o usuário ficou nela e quanto \"scrollou\". Com essa combinação temos uma ideia se a interação foi positiva ou não e podemos recomendar matérias com interações de scores mais altos para os próximos usuários."
   ]
  },
  {
   "cell_type": "markdown",
   "id": "c78b9f98-4b01-4266-9629-dbe755339c11",
   "metadata": {},
   "source": [
    "O Score será definido pela fórmula abaixo e pesos diferentes (foram definidos a priori pelo que consideramos interessante):\n",
    "\n",
    "$$rating = clicks * 0.3 + timeOnPage * 0.4 + scrollPercentage * 0.3$$"
   ]
  },
  {
   "cell_type": "code",
   "execution_count": 12,
   "id": "0c9759c7-55ff-4819-b4b3-0ad64e2b8f83",
   "metadata": {},
   "outputs": [],
   "source": [
    "# Criando os score rating:\n",
    "df_user_item_inter = (\n",
    "    df_user_item_inter\n",
    "    .with_columns([\n",
    "        (pl.col(\"clicks\") * 0.3 + \n",
    "         pl.col(\"timeOnPage\") * 0.0001 * 0.4 + \n",
    "         pl.col(\"scrollPercentage\") * 0.3).alias(\"rating\"),\n",
    "        pl.col(\"itemId\").str.strip_chars().alias(\"itemId\")\n",
    "    ])\n",
    ")"
   ]
  },
  {
   "cell_type": "code",
   "execution_count": 13,
   "id": "20ea1df4-89cb-45d6-bb31-d614f31fb7a1",
   "metadata": {},
   "outputs": [
    {
     "data": {
      "text/html": [
       "<div><style>\n",
       ".dataframe > thead > tr,\n",
       ".dataframe > tbody > tr {\n",
       "  text-align: right;\n",
       "  white-space: pre-wrap;\n",
       "}\n",
       "</style>\n",
       "<small>shape: (3, 6)</small><table border=\"1\" class=\"dataframe\"><thead><tr><th>userId</th><th>itemId</th><th>clicks</th><th>timeOnPage</th><th>scrollPercentage</th><th>rating</th></tr><tr><td>str</td><td>str</td><td>i32</td><td>i32</td><td>f32</td><td>f32</td></tr></thead><tbody><tr><td>&quot;f98d1132f60d46883ce49583257104…</td><td>&quot;c8aab885-433d-4e46-8066-479f40…</td><td>76</td><td>20380</td><td>50.299999</td><td>38.7052</td></tr><tr><td>&quot;f98d1132f60d46883ce49583257104…</td><td>&quot;68d2039c-c9aa-456c-ac33-9b2e86…</td><td>38</td><td>21184</td><td>18.18</td><td>17.701361</td></tr><tr><td>&quot;f98d1132f60d46883ce49583257104…</td><td>&quot;13e423ce-1d69-4c78-bc18-e8c8f7…</td><td>41</td><td>35438</td><td>16.459999</td><td>18.655519</td></tr></tbody></table></div>"
      ],
      "text/plain": [
       "shape: (3, 6)\n",
       "┌─────────────────────────────────┬─────────────────────────────────┬────────┬────────────┬──────────────────┬───────────┐\n",
       "│ userId                          ┆ itemId                          ┆ clicks ┆ timeOnPage ┆ scrollPercentage ┆ rating    │\n",
       "│ ---                             ┆ ---                             ┆ ---    ┆ ---        ┆ ---              ┆ ---       │\n",
       "│ str                             ┆ str                             ┆ i32    ┆ i32        ┆ f32              ┆ f32       │\n",
       "╞═════════════════════════════════╪═════════════════════════════════╪════════╪════════════╪══════════════════╪═══════════╡\n",
       "│ f98d1132f60d46883ce49583257104… ┆ c8aab885-433d-4e46-8066-479f40… ┆ 76     ┆ 20380      ┆ 50.299999        ┆ 38.7052   │\n",
       "│ f98d1132f60d46883ce49583257104… ┆ 68d2039c-c9aa-456c-ac33-9b2e86… ┆ 38     ┆ 21184      ┆ 18.18            ┆ 17.701361 │\n",
       "│ f98d1132f60d46883ce49583257104… ┆ 13e423ce-1d69-4c78-bc18-e8c8f7… ┆ 41     ┆ 35438      ┆ 16.459999        ┆ 18.655519 │\n",
       "└─────────────────────────────────┴─────────────────────────────────┴────────┴────────────┴──────────────────┴───────────┘"
      ]
     },
     "execution_count": 13,
     "metadata": {},
     "output_type": "execute_result"
    }
   ],
   "source": [
    "df_user_item_inter.head(3)"
   ]
  },
  {
   "cell_type": "code",
   "execution_count": 14,
   "id": "43835dbb-0a03-474c-bf98-33017f0cbe71",
   "metadata": {},
   "outputs": [],
   "source": [
    "user_id_map = {id: i for i, id in enumerate(df_user_item_inter[\"userId\"].unique())}"
   ]
  },
  {
   "cell_type": "code",
   "execution_count": 16,
   "id": "23eb7442-10aa-4167-87f6-63db59c4932d",
   "metadata": {},
   "outputs": [],
   "source": [
    "item_id_map = {id: i for i, id in enumerate(df_user_item_inter[\"itemId\"].unique())}"
   ]
  },
  {
   "cell_type": "code",
   "execution_count": 93,
   "id": "15bc8d0e-25e8-45f0-89e8-f740e171c84a",
   "metadata": {},
   "outputs": [],
   "source": [
    "n_users, n_items = len(user_id_map), len(item_id_map)"
   ]
  },
  {
   "cell_type": "code",
   "execution_count": 137,
   "id": "111b65fe-6c4c-4f82-b290-9fb322644090",
   "metadata": {},
   "outputs": [],
   "source": [
    "# Add os indices dos users e items a df\n",
    "df_user_item_inter = (\n",
    "    df_user_item_inter\n",
    "    .with_columns([\n",
    "        pl.col(\"userId\").map_elements(lambda x: user_id_map[x]).alias(\"user_idx\"),\n",
    "        pl.col(\"itemId\").map_elements(lambda x: item_id_map[x]).alias(\"item_idx\")\n",
    "    ])\n",
    ")"
   ]
  },
  {
   "cell_type": "code",
   "execution_count": 138,
   "id": "680f803c-dd32-4c35-898d-e45dd99c0957",
   "metadata": {},
   "outputs": [
    {
     "data": {
      "text/html": [
       "<div><style>\n",
       ".dataframe > thead > tr,\n",
       ".dataframe > tbody > tr {\n",
       "  text-align: right;\n",
       "  white-space: pre-wrap;\n",
       "}\n",
       "</style>\n",
       "<small>shape: (3, 8)</small><table border=\"1\" class=\"dataframe\"><thead><tr><th>userId</th><th>itemId</th><th>clicks</th><th>timeOnPage</th><th>scrollPercentage</th><th>rating</th><th>user_idx</th><th>item_idx</th></tr><tr><td>str</td><td>str</td><td>i32</td><td>i32</td><td>f32</td><td>f32</td><td>i64</td><td>i64</td></tr></thead><tbody><tr><td>&quot;f98d1132f60d46883ce49583257104…</td><td>&quot;c8aab885-433d-4e46-8066-479f40…</td><td>76</td><td>20380</td><td>50.299999</td><td>38.7052</td><td>280033</td><td>104232</td></tr><tr><td>&quot;f98d1132f60d46883ce49583257104…</td><td>&quot;68d2039c-c9aa-456c-ac33-9b2e86…</td><td>38</td><td>21184</td><td>18.18</td><td>17.701361</td><td>280033</td><td>115818</td></tr><tr><td>&quot;f98d1132f60d46883ce49583257104…</td><td>&quot;13e423ce-1d69-4c78-bc18-e8c8f7…</td><td>41</td><td>35438</td><td>16.459999</td><td>18.655519</td><td>280033</td><td>47175</td></tr></tbody></table></div>"
      ],
      "text/plain": [
       "shape: (3, 8)\n",
       "┌─────────────────────────────────┬─────────────────────────────────┬────────┬────────────┬──────────────────┬───────────┬──────────┬──────────┐\n",
       "│ userId                          ┆ itemId                          ┆ clicks ┆ timeOnPage ┆ scrollPercentage ┆ rating    ┆ user_idx ┆ item_idx │\n",
       "│ ---                             ┆ ---                             ┆ ---    ┆ ---        ┆ ---              ┆ ---       ┆ ---      ┆ ---      │\n",
       "│ str                             ┆ str                             ┆ i32    ┆ i32        ┆ f32              ┆ f32       ┆ i64      ┆ i64      │\n",
       "╞═════════════════════════════════╪═════════════════════════════════╪════════╪════════════╪══════════════════╪═══════════╪══════════╪══════════╡\n",
       "│ f98d1132f60d46883ce49583257104… ┆ c8aab885-433d-4e46-8066-479f40… ┆ 76     ┆ 20380      ┆ 50.299999        ┆ 38.7052   ┆ 280033   ┆ 104232   │\n",
       "│ f98d1132f60d46883ce49583257104… ┆ 68d2039c-c9aa-456c-ac33-9b2e86… ┆ 38     ┆ 21184      ┆ 18.18            ┆ 17.701361 ┆ 280033   ┆ 115818   │\n",
       "│ f98d1132f60d46883ce49583257104… ┆ 13e423ce-1d69-4c78-bc18-e8c8f7… ┆ 41     ┆ 35438      ┆ 16.459999        ┆ 18.655519 ┆ 280033   ┆ 47175    │\n",
       "└─────────────────────────────────┴─────────────────────────────────┴────────┴────────────┴──────────────────┴───────────┴──────────┴──────────┘"
      ]
     },
     "execution_count": 138,
     "metadata": {},
     "output_type": "execute_result"
    }
   ],
   "source": [
    "df_user_item_inter.head(3)"
   ]
  },
  {
   "cell_type": "markdown",
   "id": "81822a92-444b-4f79-bffe-d594baf5870e",
   "metadata": {},
   "source": [
    "Agora começa o treinamento do modelo com as variáveis que montamos, porém precisamos criar alguns objetos como uma patriz sparsa pra poder alimentar o modelo no treinamento."
   ]
  },
  {
   "cell_type": "code",
   "execution_count": 144,
   "id": "df0ce908-dc61-440f-b52f-54938e694a24",
   "metadata": {},
   "outputs": [],
   "source": [
    "# ALS:\n",
    "model = AlternatingLeastSquares(\n",
    "    factors=50,\n",
    "    regularization=0.01,\n",
    "    iterations=15,\n",
    "    calculate_training_loss=True\n",
    ")"
   ]
  },
  {
   "cell_type": "code",
   "execution_count": 145,
   "id": "e3033be3-3a2a-4297-92c0-fd4da0932e52",
   "metadata": {},
   "outputs": [],
   "source": [
    "# Splitando pra treino:\n",
    "df_train, df_test = train_test_split(df_user_item_inter, test_size = 0.2, random_state = 23)"
   ]
  },
  {
   "cell_type": "code",
   "execution_count": 149,
   "id": "19770e86-9ada-46c6-806d-41a825cdd42d",
   "metadata": {},
   "outputs": [],
   "source": [
    "# Matriz para treino já em CSR pra eficiencia:\n",
    "m_train = sparse.coo_matrix((df_train['rating'].to_numpy(), (df_train['user_idx'].to_numpy(), df_train['item_idx'].to_numpy())),shape=(n_users, n_items)).tocsr()"
   ]
  },
  {
   "cell_type": "code",
   "execution_count": 150,
   "id": "458499e9-81e0-4e6f-b6a0-b27dbccdf2db",
   "metadata": {},
   "outputs": [
    {
     "data": {
      "text/plain": [
       "<Compressed Sparse Row sparse matrix of dtype 'float32'\n",
       "\twith 6499160 stored elements and shape (577942, 255603)>"
      ]
     },
     "execution_count": 150,
     "metadata": {},
     "output_type": "execute_result"
    }
   ],
   "source": [
    "m_train"
   ]
  },
  {
   "cell_type": "code",
   "execution_count": 151,
   "id": "75e133d6-b249-49b2-bff3-b3310e69e19d",
   "metadata": {},
   "outputs": [
    {
     "name": "stderr",
     "output_type": "stream",
     "text": [
      "100%|████████████████████████████████████████████████████████████████████████████████████████████████████████████████████████████████████████████████████████████████████████████████████| 15/15 [00:30<00:00,  2.05s/it, loss=0.000431]\n"
     ]
    }
   ],
   "source": [
    "# Fit\n",
    "model.fit(m_train)"
   ]
  },
  {
   "cell_type": "code",
   "execution_count": 152,
   "id": "9e39c294-4977-40b7-827f-bd755e947c57",
   "metadata": {},
   "outputs": [],
   "source": [
    "# Matriz para teste já em CSR pra eficiencia:\n",
    "m_test = sparse.coo_matrix((df_test['rating'].to_numpy(), (df_test['user_idx'].to_numpy(), df_test['item_idx'].to_numpy())),shape=(n_users, n_items)).tocsr()"
   ]
  },
  {
   "cell_type": "code",
   "execution_count": 153,
   "id": "7f86e82c-e526-473b-b57d-14e756d9abc3",
   "metadata": {},
   "outputs": [
    {
     "data": {
      "text/plain": [
       "<Compressed Sparse Row sparse matrix of dtype 'float32'\n",
       "\twith 1615045 stored elements and shape (577942, 255603)>"
      ]
     },
     "execution_count": 153,
     "metadata": {},
     "output_type": "execute_result"
    }
   ],
   "source": [
    "m_test"
   ]
  },
  {
   "cell_type": "code",
   "execution_count": 112,
   "id": "6305001a-c6d4-4c50-9aa9-977998a7c740",
   "metadata": {},
   "outputs": [],
   "source": [
    "# Custom evaluation instead of using implicit's built-in evaluation\n",
    "def precision_at_k(model, train_matrix, test_matrix, K=10):\n",
    "    \"\"\"\n",
    "    Calculate precision@k for all users\n",
    "    \"\"\"\n",
    "    # Number of users\n",
    "    n_users = train_matrix.shape[0]\n",
    "    precisions = []\n",
    "    \n",
    "    for user_id in range(n_users):\n",
    "        # Get the items this user rated in the test set\n",
    "        test_items = set(test_matrix[user_id].indices)\n",
    "        if len(test_items) == 0:\n",
    "            continue\n",
    "            \n",
    "        # Get recommendations for this user\n",
    "        recommended_items = model.recommend(user_id, train_matrix[user_id], N=K)[0]\n",
    "        \n",
    "        # Calculate precision\n",
    "        n_relevant = sum(1 for item in recommended_items if item in test_items)\n",
    "        precisions.append(n_relevant / K)\n",
    "        \n",
    "    return np.mean(precisions) if precisions else 0.0\n",
    "\n",
    "def mean_average_precision_at_k(model, train_matrix, test_matrix, K=10):\n",
    "    \"\"\"\n",
    "    Calculate MAP@k for all users\n",
    "    \"\"\"\n",
    "    # Number of users\n",
    "    n_users = train_matrix.shape[0]\n",
    "    avg_precisions = []\n",
    "    \n",
    "    for user_id in range(n_users):\n",
    "        # Get the items this user rated in the test set\n",
    "        test_items = set(test_matrix[user_id].indices)\n",
    "        if len(test_items) == 0:\n",
    "            continue\n",
    "            \n",
    "        # Get recommendations for this user\n",
    "        recommended_items = model.recommend(user_id, train_matrix[user_id], N=K)[0]\n",
    "        \n",
    "        # Calculate average precision\n",
    "        relevant_items = 0\n",
    "        sum_precisions = 0\n",
    "        \n",
    "        for i, item in enumerate(recommended_items):\n",
    "            if item in test_items:\n",
    "                relevant_items += 1\n",
    "                precision_at_i = relevant_items / (i + 1)\n",
    "                sum_precisions += precision_at_i\n",
    "                \n",
    "        if relevant_items > 0:\n",
    "            avg_precisions.append(sum_precisions / min(relevant_items, K))\n",
    "        \n",
    "    return np.mean(avg_precisions) if avg_precisions else 0.0"
   ]
  },
  {
   "cell_type": "code",
   "execution_count": 160,
   "id": "99375c9d-2670-47ca-b623-c0a84e43030e",
   "metadata": {},
   "outputs": [
    {
     "name": "stdout",
     "output_type": "stream",
     "text": [
      "Precision@10: 0.00594788686701861\n",
      "MAP@10: 0.477648031358122\n"
     ]
    }
   ],
   "source": [
    "# Evaluate the model with custom evaluation functions\n",
    "p_at_k = precision_at_k(model, m_train, m_test, K = 5)\n",
    "map_at_k = mean_average_precision_at_k(model, m_train, m_test, K = 5)\n",
    "\n",
    "print(f\"Precision@10: {p_at_k}\")\n",
    "print(f\"MAP@10: {map_at_k}\")"
   ]
  },
  {
   "cell_type": "code",
   "execution_count": 162,
   "id": "ce96c347-82ba-46b8-8ca1-6183fdd85c82",
   "metadata": {},
   "outputs": [
    {
     "name": "stdout",
     "output_type": "stream",
     "text": [
      "Recommendations for user a4a6fb7be6d718211d74eb1484bf79e841b1f660fb76b5f43de967592f8f3c65:\n",
      "Item: 1f32787b-de2b-49be-8c20-ddaeae34cc22, Score: 0.1123\n",
      "Item: f6b5d170-48b9-4f8e-88d4-c84b6668f3bd, Score: 0.0773\n",
      "Item: 97c00ceb-20e2-455e-b706-9a720e9b32d2, Score: 0.0756\n",
      "Item: d173164f-dcfc-4e32-8006-64ab44a57c66, Score: 0.0754\n",
      "Item: 1db5507f-ba78-4c81-96f1-36a4874fca87, Score: 0.0731\n",
      "Item: b442d94e-f0c5-4fc1-9406-a4b64b595d71, Score: 0.0702\n",
      "Item: 2e3300c6-3a18-4908-b9a9-a955cfcdcfcc, Score: 0.0659\n",
      "Item: b7f30490-0b67-4ccc-b032-1eeeb179b464, Score: 0.0633\n",
      "Item: 3901a861-007c-45ad-94ac-c635d8663696, Score: 0.0603\n",
      "Item: 33b8607c-f4aa-4379-a18d-f7dddd2dd52e, Score: 0.0596\n"
     ]
    }
   ],
   "source": [
    "# Generate recommendations for a specific user\n",
    "def get_recommendations(user_id, model, user_id_map, item_id_map, user_items, n=10):\n",
    "    # Map user_id to user_idx\n",
    "    if user_id not in user_id_map:\n",
    "        print(f\"User {user_id} not found in training data\")\n",
    "        return []\n",
    "    \n",
    "    user_idx = user_id_map[user_id]\n",
    "    # Get recommendations\n",
    "    recommendations = model.recommend(user_idx, user_items[user_idx], N=n)\n",
    "    \n",
    "    # Map item_idx back to item_id\n",
    "    reverse_item_map = {v: k for k, v in item_id_map.items()}\n",
    "    return [(reverse_item_map[item_idx], score) for item_idx, score in zip(recommendations[0], recommendations[1])]\n",
    "\n",
    "# Example: Get recommendations for the first user\n",
    "first_user_id = user_ids[0]\n",
    "user_recommendations = get_recommendations(first_user_id, model, user_id_map, item_id_map, m_train)\n",
    "print(f\"Recommendations for user {first_user_id}:\")\n",
    "for item_id, score in user_recommendations:\n",
    "    print(f\"Item: {item_id}, Score: {score:.4f}\")"
   ]
  },
  {
   "cell_type": "code",
   "execution_count": 67,
   "id": "bd93b977-09d4-424e-bf1b-791f4d86a464",
   "metadata": {},
   "outputs": [],
   "source": [
    "df_val = pl.read_csv(\"C:\\\\Users\\\\lucaa\\\\Desktop\\\\Pastas Gerais\\\\Pós Tech Data Analytics\\\\Fase 5\\\\Datathon\\\\data\\\\validacao.csv\", ignore_errors = True, schema = {\n",
    "            'userId': pl.String,\n",
    "            'userType': pl.String,\n",
    "            'history': pl.String,\n",
    "            'timestampHistory': pl.String\n",
    "        }, truncate_ragged_lines=True)"
   ]
  },
  {
   "cell_type": "code",
   "execution_count": 68,
   "id": "dfafe59d-82ee-4d7a-b534-e844fbd23d9e",
   "metadata": {},
   "outputs": [
    {
     "data": {
      "text/html": [
       "<div><style>\n",
       ".dataframe > thead > tr,\n",
       ".dataframe > tbody > tr {\n",
       "  text-align: right;\n",
       "  white-space: pre-wrap;\n",
       "}\n",
       "</style>\n",
       "<small>shape: (3, 4)</small><table border=\"1\" class=\"dataframe\"><thead><tr><th>userId</th><th>userType</th><th>history</th><th>timestampHistory</th></tr><tr><td>str</td><td>str</td><td>str</td><td>str</td></tr></thead><tbody><tr><td>&quot;e25fbee3a42d45a2914f9b061df338…</td><td>&quot;Logged&quot;</td><td>&quot;[&#x27;be89a7da-d9fa-49d4-9fdc-388c…</td><td>&quot;[1660533136590 1660672113513]&quot;</td></tr><tr><td>&quot;d0afad7ea843d86597d822f0df1d39…</td><td>&quot;Logged&quot;</td><td>&quot;[&#x27;77901133-aee7-4f7b-afc0-6522…</td><td>&quot;[1660556860253]&quot;</td></tr><tr><td>&quot;755062dd39a48809880cf363b04268…</td><td>&quot;Logged&quot;</td><td>&quot;[&#x27;857aa90f-a7ec-410d-ba82-dfa4…</td><td>&quot;[1660561649242]&quot;</td></tr></tbody></table></div>"
      ],
      "text/plain": [
       "shape: (3, 4)\n",
       "┌─────────────────────────────────┬──────────┬─────────────────────────────────┬───────────────────────────────┐\n",
       "│ userId                          ┆ userType ┆ history                         ┆ timestampHistory              │\n",
       "│ ---                             ┆ ---      ┆ ---                             ┆ ---                           │\n",
       "│ str                             ┆ str      ┆ str                             ┆ str                           │\n",
       "╞═════════════════════════════════╪══════════╪═════════════════════════════════╪═══════════════════════════════╡\n",
       "│ e25fbee3a42d45a2914f9b061df338… ┆ Logged   ┆ ['be89a7da-d9fa-49d4-9fdc-388c… ┆ [1660533136590 1660672113513] │\n",
       "│ d0afad7ea843d86597d822f0df1d39… ┆ Logged   ┆ ['77901133-aee7-4f7b-afc0-6522… ┆ [1660556860253]               │\n",
       "│ 755062dd39a48809880cf363b04268… ┆ Logged   ┆ ['857aa90f-a7ec-410d-ba82-dfa4… ┆ [1660561649242]               │\n",
       "└─────────────────────────────────┴──────────┴─────────────────────────────────┴───────────────────────────────┘"
      ]
     },
     "execution_count": 68,
     "metadata": {},
     "output_type": "execute_result"
    }
   ],
   "source": [
    "df_val.head(3)"
   ]
  },
  {
   "cell_type": "code",
   "execution_count": null,
   "id": "69a6406b-4581-4684-af04-4ee7406eae34",
   "metadata": {},
   "outputs": [],
   "source": [
    "# Generate recommendations for all users\n",
    "recomm_val = {}\n",
    "for user_id in df_val[\"userId\"]:\n",
    "    recomm_val[user_id] = get_recommendations(user_id, model, user_id_map, item_id_map, train_data)"
   ]
  },
  {
   "cell_type": "code",
   "execution_count": 100,
   "id": "c0fad45b-ecc4-4247-ae6b-191feab8a174",
   "metadata": {},
   "outputs": [],
   "source": [
    "cont = {}\n",
    "for uuid in recomm_val:\n",
    "    t = df_val.filter((pl.col(\"userId\") == uuid)).select(\"history\").item(0, 0)\n",
    "    c = 0\n",
    "    for r_i in recomm_val[uuid]:\n",
    "        if t.__contains__(r_i[0]):\n",
    "            c += 1\n",
    "    cont[uuid] = c"
   ]
  },
  {
   "cell_type": "code",
   "execution_count": 104,
   "id": "28a1f266-9245-47e3-9e5d-926be3ac564c",
   "metadata": {},
   "outputs": [
    {
     "data": {
      "text/plain": [
       "357"
      ]
     },
     "execution_count": 104,
     "metadata": {},
     "output_type": "execute_result"
    }
   ],
   "source": [
    "sum(cont.values())"
   ]
  },
  {
   "cell_type": "code",
   "execution_count": 105,
   "id": "2fe482cd-1ce3-4f53-bbf5-a46c081d8826",
   "metadata": {},
   "outputs": [
    {
     "data": {
      "text/plain": [
       "31291"
      ]
     },
     "execution_count": 105,
     "metadata": {},
     "output_type": "execute_result"
    }
   ],
   "source": [
    "len(cont)"
   ]
  },
  {
   "cell_type": "code",
   "execution_count": 159,
   "id": "653eb127-b594-4223-b693-0f5899cb18a5",
   "metadata": {},
   "outputs": [
    {
     "data": {
      "text/plain": [
       "0.011409031350867661"
      ]
     },
     "execution_count": 159,
     "metadata": {},
     "output_type": "execute_result"
    }
   ],
   "source": [
    "357 / 31291"
   ]
  },
  {
   "cell_type": "code",
   "execution_count": 163,
   "id": "647247c0-7ae4-4a97-bbea-9624e9393833",
   "metadata": {},
   "outputs": [
    {
     "name": "stdout",
     "output_type": "stream",
     "text": [
      "Model and mappings saved to 'als_model.pkl'\n"
     ]
    }
   ],
   "source": [
    "# After training the model\n",
    "import pickle\n",
    "\n",
    "# Save the model and mappings\n",
    "model_data = {\n",
    "    'model': model,\n",
    "    'user_id_map': user_id_map,\n",
    "    'item_id_map': item_id_map,\n",
    "    'reverse_user_map': {v: k for k, v in user_id_map.items()},\n",
    "    'reverse_item_map': {v: k for k, v in item_id_map.items()}\n",
    "}\n",
    "\n",
    "with open('als_model.pkl', 'wb') as f:\n",
    "    pickle.dump(model_data, f)\n",
    "\n",
    "print(\"Model and mappings saved to 'als_model.pkl'\")"
   ]
  },
  {
   "cell_type": "code",
   "execution_count": 165,
   "id": "af798a51-054a-4e39-941e-a47e29aeafa9",
   "metadata": {},
   "outputs": [
    {
     "data": {
      "text/plain": [
       "'e25fbee3a42d45a2914f9b061df3386b2ded2d8cc1f3d4b901419051126488b9'"
      ]
     },
     "execution_count": 165,
     "metadata": {},
     "output_type": "execute_result"
    }
   ],
   "source": [
    "df_val.select(\"userId\").item(0, 0)"
   ]
  },
  {
   "cell_type": "markdown",
   "id": "69e93fa5-110a-46ac-99a7-6e3d20ada56c",
   "metadata": {},
   "source": [
    "Nós temmos um modelo padrão 1 para incluirmos na API, porém podemos tentar melhorar um pouco ele, ainda mais pelos resultaods.\n",
    "Relembrando, tivemos métricas de \n",
    "\n",
    "- Precision@10: 0.00594788686701861\n",
    "- MAP@10: 0.477648031358122\n",
    "\n",
    "Ou seja, nosso modelo não acerta tanto na recomendação mas as mesmas parecem ser relevantes."
   ]
  },
  {
   "cell_type": "markdown",
   "id": "ca72036c-3c02-42f1-9729-0c26ba8026d5",
   "metadata": {},
   "source": [
    "#### Próximos passos"
   ]
  },
  {
   "cell_type": "markdown",
   "id": "203aa64d-6251-4ada-a251-76022b7447da",
   "metadata": {},
   "source": [
    "- O problema do Cold Start, dado que estamos usando feedback implicito e um modelo ALS não é um dos melhores jeitos de se lidar, dessa forma iremos fazer um ajuste para recomendar itens mais populares sempre que identificarmos um novo usuário na API.\n",
    "- A parte da recência é mais complexa, um ajuste simples que iremos realizar nesse momento é deixar no conjunto de dados somente interações mais recentes, o que ajuda a lidar um pouco com a situação. "
   ]
  },
  {
   "cell_type": "code",
   "execution_count": 18,
   "id": "b147435b-3f51-404d-8cd5-0a183e676aff",
   "metadata": {},
   "outputs": [
    {
     "data": {
      "text/html": [
       "<div><style>\n",
       ".dataframe > thead > tr,\n",
       ".dataframe > tbody > tr {\n",
       "  text-align: right;\n",
       "  white-space: pre-wrap;\n",
       "}\n",
       "</style>\n",
       "<small>shape: (1, 14)</small><table border=\"1\" class=\"dataframe\"><thead><tr><th>userId</th><th>userType</th><th>historySize</th><th>history</th><th>timestampHistory</th><th>numberOfClicksHistory</th><th>timeOnPageHistory</th><th>scrollPercentageHistory</th><th>pageVisitsCountHistory</th><th>timestampHistory_new</th><th>history_items</th><th>clicks</th><th>timeOnPage</th><th>scrollPercentage</th></tr><tr><td>str</td><td>str</td><td>str</td><td>str</td><td>str</td><td>str</td><td>str</td><td>str</td><td>str</td><td>str</td><td>list[str]</td><td>list[i64]</td><td>list[i64]</td><td>list[f64]</td></tr></thead><tbody><tr><td>&quot;f98d1132f60d46883ce49583257104…</td><td>&quot;Non-Logged&quot;</td><td>&quot;3&quot;</td><td>&quot;c8aab885-433d-4e46-8066-479f40…</td><td>&quot;1657146417045, 1657146605778, …</td><td>&quot;76, 38, 41&quot;</td><td>&quot;20380, 21184, 35438&quot;</td><td>&quot;50.3, 18.18, 16.46&quot;</td><td>&quot;2, 1, 1&quot;</td><td>&quot;1657146417045, 1657146605778, …</td><td>[&quot;c8aab885-433d-4e46-8066-479f40ba7fb2&quot;, &quot;68d2039c-c9aa-456c-ac33-9b2e8677fba7&quot;, &quot; 13e423ce-1d69-4c78-bc18-e8c8f7271964&quot;]</td><td>[76, 38, 41]</td><td>[20380, 21184, 35438]</td><td>[50.3, 18.18, 16.46]</td></tr></tbody></table></div>"
      ],
      "text/plain": [
       "shape: (1, 14)\n",
       "┌─────────────────────────────────┬────────────┬─────────────┬─────────────────────────────────┬───┬─────────────────────────────────┬──────────────┬───────────────────────┬──────────────────────┐\n",
       "│ userId                          ┆ userType   ┆ historySize ┆ history                         ┆ … ┆ history_items                   ┆ clicks       ┆ timeOnPage            ┆ scrollPercentage     │\n",
       "│ ---                             ┆ ---        ┆ ---         ┆ ---                             ┆   ┆ ---                             ┆ ---          ┆ ---                   ┆ ---                  │\n",
       "│ str                             ┆ str        ┆ str         ┆ str                             ┆   ┆ list[str]                       ┆ list[i64]    ┆ list[i64]             ┆ list[f64]            │\n",
       "╞═════════════════════════════════╪════════════╪═════════════╪═════════════════════════════════╪═══╪═════════════════════════════════╪══════════════╪═══════════════════════╪══════════════════════╡\n",
       "│ f98d1132f60d46883ce49583257104… ┆ Non-Logged ┆ 3           ┆ c8aab885-433d-4e46-8066-479f40… ┆ … ┆ [\"c8aab885-433d-4e46-8066-479f… ┆ [76, 38, 41] ┆ [20380, 21184, 35438] ┆ [50.3, 18.18, 16.46] │\n",
       "└─────────────────────────────────┴────────────┴─────────────┴─────────────────────────────────┴───┴─────────────────────────────────┴──────────────┴───────────────────────┴──────────────────────┘"
      ]
     },
     "execution_count": 18,
     "metadata": {},
     "output_type": "execute_result"
    }
   ],
   "source": [
    "df_full.head(1)"
   ]
  },
  {
   "cell_type": "code",
   "execution_count": 28,
   "id": "78cc32e5-3636-42a0-b783-b4bffeb2d6e5",
   "metadata": {},
   "outputs": [],
   "source": [
    "from datetime import datetime"
   ]
  },
  {
   "cell_type": "code",
   "execution_count": 38,
   "id": "e20274c9-0b98-4e23-ab89-a52d38cf866f",
   "metadata": {},
   "outputs": [],
   "source": [
    "# Criando uma nova df de itens:\n",
    "user_item_inter = []\n",
    "for _row in df_full.iter_rows(named=True):\n",
    "    user_id = _row['userId']\n",
    "    for idx, item_id in enumerate(_row['history_items']):\n",
    "        if idx < len(_row['clicks']) and idx < len(_row['timeOnPage']) and idx < len(_row['scrollPercentage']):\n",
    "            user_item_inter.append({\n",
    "                'userId': user_id,\n",
    "                'itemId': item_id,\n",
    "                'ts_inter': _row['ts_items'][idx],\n",
    "                'clicks': _row['clicks'][idx],\n",
    "                'timeOnPage': _row['timeOnPage'][idx],\n",
    "                'scrollPercentage': _row['scrollPercentage'][idx]\n",
    "            })"
   ]
  },
  {
   "cell_type": "code",
   "execution_count": 39,
   "id": "40238986-3111-4c4c-aa83-392867781e1e",
   "metadata": {},
   "outputs": [
    {
     "data": {
      "text/plain": [
       "[{'userId': 'f98d1132f60d46883ce49583257104d15ce723b3bbda2147c1e31ac76f0bf069',\n",
       "  'itemId': 'c8aab885-433d-4e46-8066-479f40ba7fb2',\n",
       "  'ts_inter': '1657146417045',\n",
       "  'clicks': 76,\n",
       "  'timeOnPage': 20380,\n",
       "  'scrollPercentage': 50.3},\n",
       " {'userId': 'f98d1132f60d46883ce49583257104d15ce723b3bbda2147c1e31ac76f0bf069',\n",
       "  'itemId': '68d2039c-c9aa-456c-ac33-9b2e8677fba7',\n",
       "  'ts_inter': '1657146605778',\n",
       "  'clicks': 38,\n",
       "  'timeOnPage': 21184,\n",
       "  'scrollPercentage': 18.18},\n",
       " {'userId': 'f98d1132f60d46883ce49583257104d15ce723b3bbda2147c1e31ac76f0bf069',\n",
       "  'itemId': ' 13e423ce-1d69-4c78-bc18-e8c8f7271964',\n",
       "  'ts_inter': ' 1657146698738',\n",
       "  'clicks': 41,\n",
       "  'timeOnPage': 35438,\n",
       "  'scrollPercentage': 16.46},\n",
       " {'userId': '2c1080975e257ed630e26679edbe4d5c850c65f3e09f655798b0bba9b42f2110',\n",
       "  'itemId': '3325b5a1-979a-4cb3-82b6-63905c9edbe8',\n",
       "  'ts_inter': '1656684240278',\n",
       "  'clicks': 7,\n",
       "  'timeOnPage': 6049,\n",
       "  'scrollPercentage': 25.35}]"
      ]
     },
     "execution_count": 39,
     "metadata": {},
     "output_type": "execute_result"
    }
   ],
   "source": [
    "user_item_inter[0:4]"
   ]
  },
  {
   "cell_type": "code",
   "execution_count": 55,
   "id": "82cd8e1b-a115-4ee9-9906-eb719138bf87",
   "metadata": {},
   "outputs": [],
   "source": [
    "# Nova df:\n",
    "# Convertendo tudo para uma df:\n",
    "df_user_item_inter_v2 = pl.DataFrame(user_item_inter, schema = {\n",
    "    \"userId\": pl.String,\n",
    "    \"itemId\": pl.String,\n",
    "    \"ts_inter\": pl.String,\n",
    "    \"clicks\": pl.Int32,\n",
    "    \"timeOnPage\": pl.Int32,\n",
    "    \"scrollPercentage\": pl.Float32,\n",
    "    \"rating\": pl.Float32\n",
    "})"
   ]
  },
  {
   "cell_type": "code",
   "execution_count": 56,
   "id": "ad9c1844-2078-4fdb-ba83-090bd956f8ec",
   "metadata": {},
   "outputs": [
    {
     "data": {
      "text/html": [
       "<div><style>\n",
       ".dataframe > thead > tr,\n",
       ".dataframe > tbody > tr {\n",
       "  text-align: right;\n",
       "  white-space: pre-wrap;\n",
       "}\n",
       "</style>\n",
       "<small>shape: (2, 7)</small><table border=\"1\" class=\"dataframe\"><thead><tr><th>userId</th><th>itemId</th><th>ts_inter</th><th>clicks</th><th>timeOnPage</th><th>scrollPercentage</th><th>rating</th></tr><tr><td>str</td><td>str</td><td>str</td><td>i32</td><td>i32</td><td>f32</td><td>f32</td></tr></thead><tbody><tr><td>&quot;f98d1132f60d46883ce49583257104…</td><td>&quot;c8aab885-433d-4e46-8066-479f40…</td><td>&quot;1657146417045&quot;</td><td>76</td><td>20380</td><td>50.299999</td><td>null</td></tr><tr><td>&quot;f98d1132f60d46883ce49583257104…</td><td>&quot;68d2039c-c9aa-456c-ac33-9b2e86…</td><td>&quot;1657146605778&quot;</td><td>38</td><td>21184</td><td>18.18</td><td>null</td></tr></tbody></table></div>"
      ],
      "text/plain": [
       "shape: (2, 7)\n",
       "┌─────────────────────────────────┬─────────────────────────────────┬───────────────┬────────┬────────────┬──────────────────┬────────┐\n",
       "│ userId                          ┆ itemId                          ┆ ts_inter      ┆ clicks ┆ timeOnPage ┆ scrollPercentage ┆ rating │\n",
       "│ ---                             ┆ ---                             ┆ ---           ┆ ---    ┆ ---        ┆ ---              ┆ ---    │\n",
       "│ str                             ┆ str                             ┆ str           ┆ i32    ┆ i32        ┆ f32              ┆ f32    │\n",
       "╞═════════════════════════════════╪═════════════════════════════════╪═══════════════╪════════╪════════════╪══════════════════╪════════╡\n",
       "│ f98d1132f60d46883ce49583257104… ┆ c8aab885-433d-4e46-8066-479f40… ┆ 1657146417045 ┆ 76     ┆ 20380      ┆ 50.299999        ┆ null   │\n",
       "│ f98d1132f60d46883ce49583257104… ┆ 68d2039c-c9aa-456c-ac33-9b2e86… ┆ 1657146605778 ┆ 38     ┆ 21184      ┆ 18.18            ┆ null   │\n",
       "└─────────────────────────────────┴─────────────────────────────────┴───────────────┴────────┴────────────┴──────────────────┴────────┘"
      ]
     },
     "execution_count": 56,
     "metadata": {},
     "output_type": "execute_result"
    }
   ],
   "source": [
    "df_user_item_inter_v2.head(2)"
   ]
  },
  {
   "cell_type": "code",
   "execution_count": 57,
   "id": "6a2da567-20c7-4612-97d3-3bae6f017308",
   "metadata": {},
   "outputs": [],
   "source": [
    "# Criando os score rating:\n",
    "df_user_item_inter_v2 = (\n",
    "    df_user_item_inter_v2\n",
    "    .with_columns([\n",
    "        (pl.col(\"clicks\") * 0.3 + \n",
    "         pl.col(\"timeOnPage\") * 0.0001 * 0.4 + \n",
    "         pl.col(\"scrollPercentage\") * 0.3).alias(\"rating\"),\n",
    "        pl.col(\"itemId\").str.strip_chars().alias(\"itemId\"),\n",
    "        pl.col(\"ts_inter\").str.strip_chars().cast(pl.Int64).cast(pl.Datetime(\"ms\"))\n",
    "    ])\n",
    ")"
   ]
  },
  {
   "cell_type": "code",
   "execution_count": 58,
   "id": "128a7c35-3d1c-4e7f-9264-a5432aaa063e",
   "metadata": {},
   "outputs": [
    {
     "data": {
      "text/html": [
       "<div><style>\n",
       ".dataframe > thead > tr,\n",
       ".dataframe > tbody > tr {\n",
       "  text-align: right;\n",
       "  white-space: pre-wrap;\n",
       "}\n",
       "</style>\n",
       "<small>shape: (3, 7)</small><table border=\"1\" class=\"dataframe\"><thead><tr><th>userId</th><th>itemId</th><th>ts_inter</th><th>clicks</th><th>timeOnPage</th><th>scrollPercentage</th><th>rating</th></tr><tr><td>str</td><td>str</td><td>datetime[ms]</td><td>i32</td><td>i32</td><td>f32</td><td>f32</td></tr></thead><tbody><tr><td>&quot;f98d1132f60d46883ce49583257104…</td><td>&quot;c8aab885-433d-4e46-8066-479f40…</td><td>2022-07-06 22:26:57.045</td><td>76</td><td>20380</td><td>50.299999</td><td>38.7052</td></tr><tr><td>&quot;f98d1132f60d46883ce49583257104…</td><td>&quot;68d2039c-c9aa-456c-ac33-9b2e86…</td><td>2022-07-06 22:30:05.778</td><td>38</td><td>21184</td><td>18.18</td><td>17.701361</td></tr><tr><td>&quot;f98d1132f60d46883ce49583257104…</td><td>&quot;13e423ce-1d69-4c78-bc18-e8c8f7…</td><td>2022-07-06 22:31:38.738</td><td>41</td><td>35438</td><td>16.459999</td><td>18.655519</td></tr></tbody></table></div>"
      ],
      "text/plain": [
       "shape: (3, 7)\n",
       "┌─────────────────────────────────┬─────────────────────────────────┬─────────────────────────┬────────┬────────────┬──────────────────┬───────────┐\n",
       "│ userId                          ┆ itemId                          ┆ ts_inter                ┆ clicks ┆ timeOnPage ┆ scrollPercentage ┆ rating    │\n",
       "│ ---                             ┆ ---                             ┆ ---                     ┆ ---    ┆ ---        ┆ ---              ┆ ---       │\n",
       "│ str                             ┆ str                             ┆ datetime[ms]            ┆ i32    ┆ i32        ┆ f32              ┆ f32       │\n",
       "╞═════════════════════════════════╪═════════════════════════════════╪═════════════════════════╪════════╪════════════╪══════════════════╪═══════════╡\n",
       "│ f98d1132f60d46883ce49583257104… ┆ c8aab885-433d-4e46-8066-479f40… ┆ 2022-07-06 22:26:57.045 ┆ 76     ┆ 20380      ┆ 50.299999        ┆ 38.7052   │\n",
       "│ f98d1132f60d46883ce49583257104… ┆ 68d2039c-c9aa-456c-ac33-9b2e86… ┆ 2022-07-06 22:30:05.778 ┆ 38     ┆ 21184      ┆ 18.18            ┆ 17.701361 │\n",
       "│ f98d1132f60d46883ce49583257104… ┆ 13e423ce-1d69-4c78-bc18-e8c8f7… ┆ 2022-07-06 22:31:38.738 ┆ 41     ┆ 35438      ┆ 16.459999        ┆ 18.655519 │\n",
       "└─────────────────────────────────┴─────────────────────────────────┴─────────────────────────┴────────┴────────────┴──────────────────┴───────────┘"
      ]
     },
     "execution_count": 58,
     "metadata": {},
     "output_type": "execute_result"
    }
   ],
   "source": [
    "df_user_item_inter_v2.head(3)"
   ]
  },
  {
   "cell_type": "code",
   "execution_count": 59,
   "id": "2fcbca1e-9b87-424b-8102-b1abe8e52ca9",
   "metadata": {},
   "outputs": [
    {
     "data": {
      "text/html": [
       "<div><style>\n",
       ".dataframe > thead > tr,\n",
       ".dataframe > tbody > tr {\n",
       "  text-align: right;\n",
       "  white-space: pre-wrap;\n",
       "}\n",
       "</style>\n",
       "<small>shape: (2, 3)</small><table border=\"1\" class=\"dataframe\"><thead><tr><th>ano</th><th>mes</th><th>count</th></tr><tr><td>i32</td><td>i8</td><td>u32</td></tr></thead><tbody><tr><td>2022</td><td>7</td><td>5344389</td></tr><tr><td>2022</td><td>8</td><td>2779562</td></tr></tbody></table></div>"
      ],
      "text/plain": [
       "shape: (2, 3)\n",
       "┌──────┬─────┬─────────┐\n",
       "│ ano  ┆ mes ┆ count   │\n",
       "│ ---  ┆ --- ┆ ---     │\n",
       "│ i32  ┆ i8  ┆ u32     │\n",
       "╞══════╪═════╪═════════╡\n",
       "│ 2022 ┆ 7   ┆ 5344389 │\n",
       "│ 2022 ┆ 8   ┆ 2779562 │\n",
       "└──────┴─────┴─────────┘"
      ]
     },
     "execution_count": 59,
     "metadata": {},
     "output_type": "execute_result"
    }
   ],
   "source": [
    "# Distribuicoes das datas:\n",
    "(\n",
    "    df_user_item_inter_v2.with_columns(\n",
    "        pl.col(\"ts_inter\").dt.year().alias(\"ano\"),\n",
    "        pl.col(\"ts_inter\").dt.month().alias(\"mes\")\n",
    "    )\n",
    "    .group_by([\"ano\", \"mes\"])\n",
    "    .agg(pl.len().alias(\"count\"))\n",
    "    .sort([\"ano\", \"mes\"])  # Sort by year and month\n",
    ")"
   ]
  },
  {
   "cell_type": "markdown",
   "id": "104fba05-89c4-4fde-90e4-a92141d67eed",
   "metadata": {},
   "source": [
    "Só temos informações de duas safras então vamos ter que avaliar especificamente as matérias."
   ]
  },
  {
   "cell_type": "code",
   "execution_count": 63,
   "id": "5e2c49ab-6951-43a1-b9ef-8746e8291e10",
   "metadata": {},
   "outputs": [
    {
     "name": "stdout",
     "output_type": "stream",
     "text": [
      "Arquivo itens-parte1: shape (100000, 7)\n",
      "Arquivo itens-parte2: shape (100000, 7)\n",
      "Arquivo itens-parte3: shape (55603, 7)\n",
      "Full df: (255603, 7)\n"
     ]
    }
   ],
   "source": [
    "# Looping os conj. de treino:\n",
    "path = \"C:\\\\Users\\\\lucaa\\\\Desktop\\\\Pastas Gerais\\\\Pós Tech Data Analytics\\\\Fase 5\\\\Datathon\\\\data\\\\itens\\\\itens\\\\\"\n",
    "df_materias = pl.DataFrame()\n",
    "for file in os.listdir(path):\n",
    "    if file.__contains__(\"csv\"):\n",
    "        df = pl.read_csv(f\"{path}{file}\", ignore_errors = True, schema = {\n",
    "            'page': pl.String,\n",
    "            'url': pl.String,\n",
    "            'issued': pl.String,\n",
    "            'modified': pl.String,\n",
    "            'title': pl.String,\n",
    "            'body': pl.String,\n",
    "            'caption': pl.String\n",
    "        }, truncate_ragged_lines=True)\n",
    "        print(f\"Arquivo {file.replace('.csv', '')}: shape {df.shape}\")\n",
    "        \n",
    "        # Concat dfs:\n",
    "        df_materias = pl.concat([df_materias, df])\n",
    "        del df\n",
    "\n",
    "print(f\"Full df: {df_materias.shape}\")"
   ]
  },
  {
   "cell_type": "code",
   "execution_count": 64,
   "id": "000e353e-0ab2-46a6-b98a-18790b1beca0",
   "metadata": {},
   "outputs": [
    {
     "data": {
      "text/html": [
       "<div><style>\n",
       ".dataframe > thead > tr,\n",
       ".dataframe > tbody > tr {\n",
       "  text-align: right;\n",
       "  white-space: pre-wrap;\n",
       "}\n",
       "</style>\n",
       "<small>shape: (3, 7)</small><table border=\"1\" class=\"dataframe\"><thead><tr><th>page</th><th>url</th><th>issued</th><th>modified</th><th>title</th><th>body</th><th>caption</th></tr><tr><td>str</td><td>str</td><td>str</td><td>str</td><td>str</td><td>str</td><td>str</td></tr></thead><tbody><tr><td>&quot;13db0ab1-eea2-4603-84c4-f40a87…</td><td>&quot;http://g1.globo.com/am/amazona…</td><td>&quot;2022-06-18 20:37:45+00:00&quot;</td><td>&quot;2023-04-15 00:02:08+00:00&quot;</td><td>&quot;Caso Bruno e Dom: 3º suspeito …</td><td>&quot;Após audiência de custódia, a …</td><td>&quot;Jeferson da Silva Lima foi esc…</td></tr><tr><td>&quot;92907b73-5cd3-4184-8d8c-e206ae…</td><td>&quot;http://g1.globo.com/pa/santare…</td><td>&quot;2019-06-20 17:19:52+00:00&quot;</td><td>&quot;2023-06-16 20:19:15+00:00&quot;</td><td>&quot;Linguajar dos santarenos é dif…</td><td>&quot;Vista aérea de Santarém\n",
       "Ádrio …</td><td>&quot;As expressões santarenas não s…</td></tr><tr><td>&quot;61e07f64-cddf-46f2-b50c-ea0a39…</td><td>&quot;http://g1.globo.com/mundo/noti…</td><td>&quot;2022-07-08 08:55:52+00:00&quot;</td><td>&quot;2023-04-15 04:25:39+00:00&quot;</td><td>&quot;Ex-premiê Shinzo Abe morre apó…</td><td>&quot;Novo vídeo mostra que assassin…</td><td>&quot;Ex-primeiro-ministro foi ating…</td></tr></tbody></table></div>"
      ],
      "text/plain": [
       "shape: (3, 7)\n",
       "┌─────────────────────────────────┬─────────────────────────────────┬───────────────────────────┬───────────────────────────┬─────────────────────────────────┬─────────────────────────────────┬─────────────────────────────────┐\n",
       "│ page                            ┆ url                             ┆ issued                    ┆ modified                  ┆ title                           ┆ body                            ┆ caption                         │\n",
       "│ ---                             ┆ ---                             ┆ ---                       ┆ ---                       ┆ ---                             ┆ ---                             ┆ ---                             │\n",
       "│ str                             ┆ str                             ┆ str                       ┆ str                       ┆ str                             ┆ str                             ┆ str                             │\n",
       "╞═════════════════════════════════╪═════════════════════════════════╪═══════════════════════════╪═══════════════════════════╪═════════════════════════════════╪═════════════════════════════════╪═════════════════════════════════╡\n",
       "│ 13db0ab1-eea2-4603-84c4-f40a87… ┆ http://g1.globo.com/am/amazona… ┆ 2022-06-18 20:37:45+00:00 ┆ 2023-04-15 00:02:08+00:00 ┆ Caso Bruno e Dom: 3º suspeito … ┆ Após audiência de custódia, a … ┆ Jeferson da Silva Lima foi esc… │\n",
       "│ 92907b73-5cd3-4184-8d8c-e206ae… ┆ http://g1.globo.com/pa/santare… ┆ 2019-06-20 17:19:52+00:00 ┆ 2023-06-16 20:19:15+00:00 ┆ Linguajar dos santarenos é dif… ┆ Vista aérea de Santarém         ┆ As expressões santarenas não s… │\n",
       "│                                 ┆                                 ┆                           ┆                           ┆                                 ┆ Ádrio …                         ┆                                 │\n",
       "│ 61e07f64-cddf-46f2-b50c-ea0a39… ┆ http://g1.globo.com/mundo/noti… ┆ 2022-07-08 08:55:52+00:00 ┆ 2023-04-15 04:25:39+00:00 ┆ Ex-premiê Shinzo Abe morre apó… ┆ Novo vídeo mostra que assassin… ┆ Ex-primeiro-ministro foi ating… │\n",
       "└─────────────────────────────────┴─────────────────────────────────┴───────────────────────────┴───────────────────────────┴─────────────────────────────────┴─────────────────────────────────┴─────────────────────────────────┘"
      ]
     },
     "execution_count": 64,
     "metadata": {},
     "output_type": "execute_result"
    }
   ],
   "source": [
    "df_materias.head(3)"
   ]
  },
  {
   "cell_type": "code",
   "execution_count": 76,
   "id": "dde897c5-0563-40e4-a715-f760e23de884",
   "metadata": {},
   "outputs": [
    {
     "data": {
      "text/html": [
       "<div><style>\n",
       ".dataframe > thead > tr,\n",
       ".dataframe > tbody > tr {\n",
       "  text-align: right;\n",
       "  white-space: pre-wrap;\n",
       "}\n",
       "</style>\n",
       "<small>shape: (39, 3)</small><table border=\"1\" class=\"dataframe\"><thead><tr><th>ano_issued</th><th>ano_mod</th><th>count</th></tr><tr><td>i32</td><td>i32</td><td>u32</td></tr></thead><tbody><tr><td>2022</td><td>2022</td><td>100944</td></tr><tr><td>2021</td><td>2021</td><td>60421</td></tr><tr><td>2020</td><td>2020</td><td>33004</td></tr><tr><td>2019</td><td>2019</td><td>26015</td></tr><tr><td>2018</td><td>2018</td><td>20735</td></tr><tr><td>&hellip;</td><td>&hellip;</td><td>&hellip;</td></tr><tr><td>2015</td><td>2015</td><td>2</td></tr><tr><td>2015</td><td>2017</td><td>2</td></tr><tr><td>2014</td><td>2014</td><td>1</td></tr><tr><td>2015</td><td>2016</td><td>1</td></tr><tr><td>2016</td><td>2018</td><td>1</td></tr></tbody></table></div>"
      ],
      "text/plain": [
       "shape: (39, 3)\n",
       "┌────────────┬─────────┬────────┐\n",
       "│ ano_issued ┆ ano_mod ┆ count  │\n",
       "│ ---        ┆ ---     ┆ ---    │\n",
       "│ i32        ┆ i32     ┆ u32    │\n",
       "╞════════════╪═════════╪════════╡\n",
       "│ 2022       ┆ 2022    ┆ 100944 │\n",
       "│ 2021       ┆ 2021    ┆ 60421  │\n",
       "│ 2020       ┆ 2020    ┆ 33004  │\n",
       "│ 2019       ┆ 2019    ┆ 26015  │\n",
       "│ 2018       ┆ 2018    ┆ 20735  │\n",
       "│ …          ┆ …       ┆ …      │\n",
       "│ 2015       ┆ 2015    ┆ 2      │\n",
       "│ 2015       ┆ 2017    ┆ 2      │\n",
       "│ 2014       ┆ 2014    ┆ 1      │\n",
       "│ 2015       ┆ 2016    ┆ 1      │\n",
       "│ 2016       ┆ 2018    ┆ 1      │\n",
       "└────────────┴─────────┴────────┘"
      ]
     },
     "execution_count": 76,
     "metadata": {},
     "output_type": "execute_result"
    }
   ],
   "source": [
    "# Tempo da materia pras safras de interações:\n",
    "(\n",
    "    df_materias.with_columns(\n",
    "        pl.col(\"issued\").str.to_datetime(format=\"%Y-%m-%d %H:%M:%S%z\").dt.year().alias(\"ano_issued\"),\n",
    "        pl.col(\"modified\").str.to_datetime(format=\"%Y-%m-%d %H:%M:%S%z\").dt.year().alias(\"ano_mod\")\n",
    "    )\n",
    "    .group_by([\"ano_issued\", \"ano_mod\"])\n",
    "    .agg(pl.len().alias(\"count\"))\n",
    "    .sort([\"count\"], descending=True)\n",
    ")"
   ]
  },
  {
   "cell_type": "markdown",
   "id": "a1a64ad3-eb62-4d82-a005-56aafca45e4f",
   "metadata": {},
   "source": [
    "Vamos tirar todas as matérias publicadas pré 2022, até porque as matérias não parecem ser mdificadas muito depois."
   ]
  },
  {
   "cell_type": "code",
   "execution_count": 77,
   "id": "593c418d-3d69-4132-bc2c-bbd5284e82ab",
   "metadata": {},
   "outputs": [],
   "source": [
    "# Df filtrada para a modelagem sem casos antigos:\n",
    "df_materias_f = (\n",
    "    df_materias\n",
    "    .with_columns(pl.col(\"issued\").str.to_datetime(format=\"%Y-%m-%d %H:%M:%S%z\").dt.year().alias(\"ano_issued\"))\n",
    "    .filter((pl.col(\"ano_issued\") == 2022))\n",
    ")"
   ]
  },
  {
   "cell_type": "code",
   "execution_count": 80,
   "id": "f757675a-eff8-426b-bce6-85ae87e76de9",
   "metadata": {},
   "outputs": [],
   "source": [
    "list_materias_2022 = df_materias_f[\"page\"].to_list()"
   ]
  },
  {
   "cell_type": "code",
   "execution_count": 84,
   "id": "34aced4e-746f-4826-9dba-28c4428bfba1",
   "metadata": {},
   "outputs": [],
   "source": [
    "# Dt Final Modelagem - Recencia:\n",
    "df_user_item_inter_modelagem = df_user_item_inter_v2.filter(pl.col(\"itemId\").is_in(list_materias_2022))"
   ]
  },
  {
   "cell_type": "code",
   "execution_count": 85,
   "id": "d91f4afd-681c-4728-9806-976f4b8c1707",
   "metadata": {},
   "outputs": [
    {
     "data": {
      "text/plain": [
       "(7462272, 7)"
      ]
     },
     "execution_count": 85,
     "metadata": {},
     "output_type": "execute_result"
    }
   ],
   "source": [
    "df_user_item_inter_modelagem.shape"
   ]
  },
  {
   "cell_type": "code",
   "execution_count": 86,
   "id": "d3d07601-b789-4e21-834c-984a5daf2453",
   "metadata": {},
   "outputs": [],
   "source": [
    "user_id_map = {id: i for i, id in enumerate(df_user_item_inter_modelagem[\"userId\"].unique())}\n",
    "item_id_map = {id: i for i, id in enumerate(df_user_item_inter_modelagem[\"itemId\"].unique())}"
   ]
  },
  {
   "cell_type": "code",
   "execution_count": 87,
   "id": "49ae0941-96d5-4523-bbcd-181e1b7b7438",
   "metadata": {},
   "outputs": [],
   "source": [
    "df_user_item_inter_modelagem = (\n",
    "    df_user_item_inter_modelagem\n",
    "    .with_columns([\n",
    "        pl.col(\"userId\").map_elements(lambda x: user_id_map[x]).alias(\"user_idx\"),\n",
    "        pl.col(\"itemId\").map_elements(lambda x: item_id_map[x]).alias(\"item_idx\")\n",
    "    ])\n",
    ")"
   ]
  },
  {
   "cell_type": "code",
   "execution_count": 88,
   "id": "8cab00ee-d7e1-4412-9b0f-47c334f6024b",
   "metadata": {},
   "outputs": [
    {
     "data": {
      "text/html": [
       "<div><style>\n",
       ".dataframe > thead > tr,\n",
       ".dataframe > tbody > tr {\n",
       "  text-align: right;\n",
       "  white-space: pre-wrap;\n",
       "}\n",
       "</style>\n",
       "<small>shape: (3, 9)</small><table border=\"1\" class=\"dataframe\"><thead><tr><th>userId</th><th>itemId</th><th>ts_inter</th><th>clicks</th><th>timeOnPage</th><th>scrollPercentage</th><th>rating</th><th>user_idx</th><th>item_idx</th></tr><tr><td>str</td><td>str</td><td>datetime[ms]</td><td>i32</td><td>i32</td><td>f32</td><td>f32</td><td>i64</td><td>i64</td></tr></thead><tbody><tr><td>&quot;f98d1132f60d46883ce49583257104…</td><td>&quot;c8aab885-433d-4e46-8066-479f40…</td><td>2022-07-06 22:26:57.045</td><td>76</td><td>20380</td><td>50.299999</td><td>38.7052</td><td>204276</td><td>89205</td></tr><tr><td>&quot;f98d1132f60d46883ce49583257104…</td><td>&quot;13e423ce-1d69-4c78-bc18-e8c8f7…</td><td>2022-07-06 22:31:38.738</td><td>41</td><td>35438</td><td>16.459999</td><td>18.655519</td><td>204276</td><td>47180</td></tr><tr><td>&quot;2c1080975e257ed630e26679edbe4d…</td><td>&quot;3325b5a1-979a-4cb3-82b6-63905c…</td><td>2022-07-01 14:04:00.278</td><td>7</td><td>6049</td><td>25.35</td><td>9.94696</td><td>81606</td><td>98197</td></tr></tbody></table></div>"
      ],
      "text/plain": [
       "shape: (3, 9)\n",
       "┌─────────────────────────────────┬─────────────────────────────────┬─────────────────────────┬────────┬───┬──────────────────┬───────────┬──────────┬──────────┐\n",
       "│ userId                          ┆ itemId                          ┆ ts_inter                ┆ clicks ┆ … ┆ scrollPercentage ┆ rating    ┆ user_idx ┆ item_idx │\n",
       "│ ---                             ┆ ---                             ┆ ---                     ┆ ---    ┆   ┆ ---              ┆ ---       ┆ ---      ┆ ---      │\n",
       "│ str                             ┆ str                             ┆ datetime[ms]            ┆ i32    ┆   ┆ f32              ┆ f32       ┆ i64      ┆ i64      │\n",
       "╞═════════════════════════════════╪═════════════════════════════════╪═════════════════════════╪════════╪═══╪══════════════════╪═══════════╪══════════╪══════════╡\n",
       "│ f98d1132f60d46883ce49583257104… ┆ c8aab885-433d-4e46-8066-479f40… ┆ 2022-07-06 22:26:57.045 ┆ 76     ┆ … ┆ 50.299999        ┆ 38.7052   ┆ 204276   ┆ 89205    │\n",
       "│ f98d1132f60d46883ce49583257104… ┆ 13e423ce-1d69-4c78-bc18-e8c8f7… ┆ 2022-07-06 22:31:38.738 ┆ 41     ┆ … ┆ 16.459999        ┆ 18.655519 ┆ 204276   ┆ 47180    │\n",
       "│ 2c1080975e257ed630e26679edbe4d… ┆ 3325b5a1-979a-4cb3-82b6-63905c… ┆ 2022-07-01 14:04:00.278 ┆ 7      ┆ … ┆ 25.35            ┆ 9.94696   ┆ 81606    ┆ 98197    │\n",
       "└─────────────────────────────────┴─────────────────────────────────┴─────────────────────────┴────────┴───┴──────────────────┴───────────┴──────────┴──────────┘"
      ]
     },
     "execution_count": 88,
     "metadata": {},
     "output_type": "execute_result"
    }
   ],
   "source": [
    "df_user_item_inter_modelagem.head(3)"
   ]
  },
  {
   "cell_type": "code",
   "execution_count": 89,
   "id": "298cba66-81ff-411f-8520-8acf013cbbcb",
   "metadata": {},
   "outputs": [],
   "source": [
    "# ALS - versao atualizada:\n",
    "model_v2 = AlternatingLeastSquares(\n",
    "    factors=50,\n",
    "    regularization=0.01,\n",
    "    iterations=15,\n",
    "    calculate_training_loss=True\n",
    ")"
   ]
  },
  {
   "cell_type": "code",
   "execution_count": 103,
   "id": "79f00d4a-ed4c-4fcc-81b8-a5eeb559776a",
   "metadata": {},
   "outputs": [],
   "source": [
    "# Splitando pra treino:\n",
    "df_train_v2, df_test_v2 = train_test_split(df_user_item_inter_modelagem, test_size = 0.2, random_state = 23)"
   ]
  },
  {
   "cell_type": "code",
   "execution_count": 107,
   "id": "d1dc0a88-657f-4d51-b423-61b9c016a4b7",
   "metadata": {},
   "outputs": [],
   "source": [
    "n_users_v2, n_items_v2 = df_user_item_inter_modelagem[\"userId\"].n_unique(), df_user_item_inter_modelagem[\"itemId\"].n_unique()"
   ]
  },
  {
   "cell_type": "code",
   "execution_count": 108,
   "id": "88c527de-748a-48c2-b50f-2ed6d9321012",
   "metadata": {},
   "outputs": [],
   "source": [
    "# Matriz para treino já em CSR pra eficiencia:\n",
    "m_train_v2 = sparse.coo_matrix((df_train_v2['rating'].to_numpy(), (df_train_v2['user_idx'].to_numpy(), df_train_v2['item_idx'].to_numpy())),shape=(n_users_v2, n_items_v2)).tocsr()\n",
    "# Matriz para teste já em CSR pra eficiencia:\n",
    "m_test_v2 = sparse.coo_matrix((df_test_v2['rating'].to_numpy(), (df_test_v2['user_idx'].to_numpy(), df_test_v2['item_idx'].to_numpy())),shape=(n_users_v2, n_items_v2)).tocsr()"
   ]
  },
  {
   "cell_type": "code",
   "execution_count": 109,
   "id": "e43be602-b909-4084-9ea1-df7d568e4037",
   "metadata": {},
   "outputs": [
    {
     "name": "stderr",
     "output_type": "stream",
     "text": [
      "100%|██████████████████████████████████████████████████████████████████████████████████████████████████████████████████████████████████████████████████████████████████████████████████████| 15/15 [00:21<00:00,  1.43s/it, loss=0.0014]\n"
     ]
    }
   ],
   "source": [
    "model_v2.fit(m_train_v2)"
   ]
  },
  {
   "cell_type": "code",
   "execution_count": 113,
   "id": "6aad8e17-5a14-46c1-9333-91f2e51d110b",
   "metadata": {},
   "outputs": [
    {
     "name": "stdout",
     "output_type": "stream",
     "text": [
      "Performance Modelo V2 Ajustado\n",
      "Precision@10: 0.04659236179634374\n",
      "MAP@10: 0.5523671494408061\n"
     ]
    }
   ],
   "source": [
    "# Avaliando o modelo 2:\n",
    "p_at_k = precision_at_k(model_v2, m_train_v2, m_test_v2, K = 5)\n",
    "map_at_k = mean_average_precision_at_k(model_v2, m_train_v2, m_test_v2, K = 5)\n",
    "\n",
    "print(\"Performance Modelo V2 Ajustado\")\n",
    "print(f\"Precision@10: {p_at_k}\")\n",
    "print(f\"MAP@10: {map_at_k}\")"
   ]
  },
  {
   "cell_type": "markdown",
   "id": "25f179ec-198e-4304-a7f6-78270e1ea6cb",
   "metadata": {},
   "source": [
    "Melhoramos nosso desempenho com essas poucas mudanças, perfeito."
   ]
  },
  {
   "cell_type": "markdown",
   "id": "6a10dc81-18de-4a80-9cfd-0f62a70a90ac",
   "metadata": {},
   "source": [
    "#### Exportando modelo final:"
   ]
  },
  {
   "cell_type": "code",
   "execution_count": 114,
   "id": "612bb661-fb1d-4c4f-8c29-a32d869cccd3",
   "metadata": {},
   "outputs": [],
   "source": [
    "# Matrix geral:\n",
    "m_total = sparse.coo_matrix((df_user_item_inter_modelagem['rating'].to_numpy(), (df_user_item_inter_modelagem['user_idx'].to_numpy(), df_user_item_inter_modelagem['item_idx'].to_numpy())),shape=(n_users_v2, n_items_v2)).tocsr()"
   ]
  },
  {
   "cell_type": "code",
   "execution_count": 115,
   "id": "56cc2622-f364-4b5a-8457-5ffa1c039def",
   "metadata": {},
   "outputs": [
    {
     "data": {
      "text/plain": [
       "<Compressed Sparse Row sparse matrix of dtype 'float32'\n",
       "\twith 7462272 stored elements and shape (379954, 101120)>"
      ]
     },
     "execution_count": 115,
     "metadata": {},
     "output_type": "execute_result"
    }
   ],
   "source": [
    "m_total"
   ]
  },
  {
   "cell_type": "code",
   "execution_count": 116,
   "id": "43d5a33b-82f9-4ef6-a8fe-e0f99b1e2aff",
   "metadata": {},
   "outputs": [
    {
     "name": "stderr",
     "output_type": "stream",
     "text": [
      "100%|█████████████████████████████████████████████████████████████████████████████████████████████████████████████████████████████████████████████████████████████████████████████████████| 15/15 [00:27<00:00,  1.81s/it, loss=0.00163]\n"
     ]
    }
   ],
   "source": [
    "model_v2.fit(m_total)"
   ]
  },
  {
   "cell_type": "code",
   "execution_count": 125,
   "id": "2d719c80-e6cd-4ed3-b172-af37ff1e769f",
   "metadata": {},
   "outputs": [
    {
     "data": {
      "text/html": [
       "<div><style>\n",
       ".dataframe > thead > tr,\n",
       ".dataframe > tbody > tr {\n",
       "  text-align: right;\n",
       "  white-space: pre-wrap;\n",
       "}\n",
       "</style>\n",
       "<small>shape: (2, 9)</small><table border=\"1\" class=\"dataframe\"><thead><tr><th>userId</th><th>itemId</th><th>ts_inter</th><th>clicks</th><th>timeOnPage</th><th>scrollPercentage</th><th>rating</th><th>user_idx</th><th>item_idx</th></tr><tr><td>str</td><td>str</td><td>datetime[ms]</td><td>i32</td><td>i32</td><td>f32</td><td>f32</td><td>i64</td><td>i64</td></tr></thead><tbody><tr><td>&quot;f98d1132f60d46883ce49583257104…</td><td>&quot;c8aab885-433d-4e46-8066-479f40…</td><td>2022-07-06 22:26:57.045</td><td>76</td><td>20380</td><td>50.299999</td><td>38.7052</td><td>204276</td><td>89205</td></tr><tr><td>&quot;f98d1132f60d46883ce49583257104…</td><td>&quot;13e423ce-1d69-4c78-bc18-e8c8f7…</td><td>2022-07-06 22:31:38.738</td><td>41</td><td>35438</td><td>16.459999</td><td>18.655519</td><td>204276</td><td>47180</td></tr></tbody></table></div>"
      ],
      "text/plain": [
       "shape: (2, 9)\n",
       "┌─────────────────────────────────┬─────────────────────────────────┬─────────────────────────┬────────┬───┬──────────────────┬───────────┬──────────┬──────────┐\n",
       "│ userId                          ┆ itemId                          ┆ ts_inter                ┆ clicks ┆ … ┆ scrollPercentage ┆ rating    ┆ user_idx ┆ item_idx │\n",
       "│ ---                             ┆ ---                             ┆ ---                     ┆ ---    ┆   ┆ ---              ┆ ---       ┆ ---      ┆ ---      │\n",
       "│ str                             ┆ str                             ┆ datetime[ms]            ┆ i32    ┆   ┆ f32              ┆ f32       ┆ i64      ┆ i64      │\n",
       "╞═════════════════════════════════╪═════════════════════════════════╪═════════════════════════╪════════╪═══╪══════════════════╪═══════════╪══════════╪══════════╡\n",
       "│ f98d1132f60d46883ce49583257104… ┆ c8aab885-433d-4e46-8066-479f40… ┆ 2022-07-06 22:26:57.045 ┆ 76     ┆ … ┆ 50.299999        ┆ 38.7052   ┆ 204276   ┆ 89205    │\n",
       "│ f98d1132f60d46883ce49583257104… ┆ 13e423ce-1d69-4c78-bc18-e8c8f7… ┆ 2022-07-06 22:31:38.738 ┆ 41     ┆ … ┆ 16.459999        ┆ 18.655519 ┆ 204276   ┆ 47180    │\n",
       "└─────────────────────────────────┴─────────────────────────────────┴─────────────────────────┴────────┴───┴──────────────────┴───────────┴──────────┴──────────┘"
      ]
     },
     "execution_count": 125,
     "metadata": {},
     "output_type": "execute_result"
    }
   ],
   "source": [
    "df_user_item_inter_modelagem.head(2)"
   ]
  },
  {
   "cell_type": "code",
   "execution_count": 139,
   "id": "b0e95374-cc15-478a-b182-b3fd6f58eb30",
   "metadata": {},
   "outputs": [],
   "source": [
    "# Itens mais populares para novos usuarios:\n",
    "lista_populares = (\n",
    "    df_user_item_inter_modelagem\n",
    "    .group_by([\"itemId\"])\n",
    "    .agg(\n",
    "        pl.len().alias(\"count\"),\n",
    "        pl.col(\"rating\").mean().alias(\"avg_rating\")\n",
    "    )\n",
    "    .sort([\"count\", \"avg_rating\"], descending=True)\n",
    "    .head(100)\n",
    "    .sort([\"avg_rating\"], descending=True)\n",
    "    [\"itemId\"]\n",
    "    .to_list()\n",
    ")"
   ]
  },
  {
   "cell_type": "code",
   "execution_count": 140,
   "id": "e5b64028-eb29-4124-9c32-412296783957",
   "metadata": {},
   "outputs": [],
   "source": [
    "model_data_final = {\n",
    "    'model': model_v2,\n",
    "    'user_id_map': user_id_map,\n",
    "    'item_id_map': item_id_map,\n",
    "    'items_popularity': lista_populares,\n",
    "    'reverse_user_map': {v: k for k, v in user_id_map.items()},\n",
    "    'reverse_item_map': {v: k for k, v in item_id_map.items()}\n",
    "}"
   ]
  },
  {
   "cell_type": "code",
   "execution_count": 141,
   "id": "0b54adbe-6081-423a-8af7-4f4065564782",
   "metadata": {},
   "outputs": [],
   "source": [
    "import pickle"
   ]
  },
  {
   "cell_type": "code",
   "execution_count": 142,
   "id": "0c151e00-2e77-425b-b1be-e4141b339594",
   "metadata": {},
   "outputs": [],
   "source": [
    "with open('C:\\\\Users\\\\lucaa\\\\Desktop\\\\Pastas Gerais\\\\Pós Tech Data Analytics\\\\Fase 5\\\\Datathon\\\\model\\\\als_model_v2.pkl', 'wb') as f:\n",
    "    pickle.dump(model_data_final, f)"
   ]
  },
  {
   "cell_type": "code",
   "execution_count": null,
   "id": "9c485ce4-5b80-42f4-8366-fa4af809dc7e",
   "metadata": {},
   "outputs": [],
   "source": []
  }
 ],
 "metadata": {
  "kernelspec": {
   "display_name": "venv",
   "language": "python",
   "name": "venv"
  },
  "language_info": {
   "codemirror_mode": {
    "name": "ipython",
    "version": 3
   },
   "file_extension": ".py",
   "mimetype": "text/x-python",
   "name": "python",
   "nbconvert_exporter": "python",
   "pygments_lexer": "ipython3",
   "version": "3.10.1"
  }
 },
 "nbformat": 4,
 "nbformat_minor": 5
}
