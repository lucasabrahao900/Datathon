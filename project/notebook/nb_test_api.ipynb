{
 "cells": [
  {
   "cell_type": "code",
   "execution_count": 8,
   "id": "e66bc1b1-4212-420e-8db4-f8ec40501177",
   "metadata": {},
   "outputs": [],
   "source": [
    "# Libs\n",
    "import requests\n",
    "import json\n",
    "import time\n",
    "import pandas as pd"
   ]
  },
  {
   "cell_type": "code",
   "execution_count": 9,
   "id": "2621e213-024e-4360-a5f6-eaeb42d50331",
   "metadata": {},
   "outputs": [],
   "source": [
    "# Separando usuarios para teste:\n",
    "users = [\n",
    "    'f98d1132f60d46883ce49583257104d15ce723b3bbda2147c1e31ac76f0bf069',\n",
    "    '2c1080975e257ed630e26679edbe4d5c850c65f3e09f655798b0bba9b42f2110',\n",
    "    '0adffd7450d3b9840d8c6215f0569ad942e782fb19b805367b02b709b73f42a1',\n",
    "    'c1e8d644329a78ea1f994292db624c57980b2886cfbc2d49cc3ae12fb5a533af',\n",
    "    '3202c194c650a89d04262e951dc48b2b517ede4af82ce5b32d920edd69c878e2'\n",
    "]"
   ]
  },
  {
   "cell_type": "code",
   "execution_count": 10,
   "id": "33f1db3a-ed22-418d-b469-de6e0af8ae36",
   "metadata": {},
   "outputs": [],
   "source": [
    "api_endpoint = \"http://localhost:8000\""
   ]
  },
  {
   "cell_type": "code",
   "execution_count": 11,
   "id": "32479275-4373-4f12-bade-748e01f9fbfd",
   "metadata": {},
   "outputs": [
    {
     "name": "stdout",
     "output_type": "stream",
     "text": [
      "\n",
      "Status code: 200\n",
      "Retorno: {\"status\":\"healthy\",\"model_loaded\":true}\n",
      "\n"
     ]
    }
   ],
   "source": [
    "# Testando API Ativa:\n",
    "response = requests.get(f'{api_endpoint}/health')\n",
    "print(f'''\n",
    "Status code: {response.status_code}\n",
    "Retorno: {response.text}\n",
    "''')"
   ]
  },
  {
   "cell_type": "code",
   "execution_count": 12,
   "id": "f0e938ce-a31d-4d8a-a513-8879e9f105bd",
   "metadata": {},
   "outputs": [
    {
     "name": "stdout",
     "output_type": "stream",
     "text": [
      "\n",
      "Status code: 200\n",
      "Retorno: {\"model_type\":\"Alternating Least Squares (ALS)\",\"num_users\":379954,\"num_items\":101120,\"factors\":50,\"regularization\":0.01,\"iterations\":15}\n",
      "\n"
     ]
    }
   ],
   "source": [
    "# Testando Rota das Infos:\n",
    "response = requests.get(f'{api_endpoint}/model-info')\n",
    "print(f'''\n",
    "Status code: {response.status_code}\n",
    "Retorno: {response.text}\n",
    "''')"
   ]
  },
  {
   "cell_type": "code",
   "execution_count": 13,
   "id": "89348bf3-69bf-4840-acbd-e3eb16b463ad",
   "metadata": {},
   "outputs": [
    {
     "name": "stdout",
     "output_type": "stream",
     "text": [
      "\n",
      "    User: f98d1132f60d46883ce49583257104d15ce723b3bbda2147c1e31ac76f0bf069\n",
      "    Status code: 200\n",
      "    Retorno: {\"recommendations\":[{\"item_id\":\"a6ab18ec-e32f-474b-964b-987309c61581\",\"score\":0.005499912891536951},{\"item_id\":\"50f85bf5-c153-4611-bf35-2f781ae4e234\",\"score\":0.005443125031888485},{\"item_id\":\"4700f517-5c5d-483c-81b7-d77aca04991c\",\"score\":0.004856076557189226},{\"item_id\":\"d8b6f5a1-2f96-4d02-a78f-dbe1c87946f8\",\"score\":0.004703979939222336},{\"item_id\":\"9c8465e1-65d5-44d6-817e-a8657d38fd32\",\"score\":0.0046758768148720264},{\"item_id\":\"6a83890a-d9e9-4f6b-a6c6-90d031785bbf\",\"score\":0.004547892138361931},{\"item_id\":\"e4a32f87-4d4a-42dd-b1d0-b4d0564b03bf\",\"score\":0.004502567928284407},{\"item_id\":\"07b5ae90-4161-4463-945e-41a48fdced21\",\"score\":0.004487418569624424},{\"item_id\":\"7f747187-72e4-4791-996b-4518742dc672\",\"score\":0.004411958623677492},{\"item_id\":\"bfd7eaa8-9116-4382-b00e-afc35498dbf1\",\"score\":0.00439115846529603}]}\n",
      "    \n",
      "\n",
      "    User: 2c1080975e257ed630e26679edbe4d5c850c65f3e09f655798b0bba9b42f2110\n",
      "    Status code: 200\n",
      "    Retorno: {\"recommendations\":[{\"item_id\":\"c20d9fa5-09a7-4050-b45a-5f50ee5daa16\",\"score\":0.7343347668647766},{\"item_id\":\"0650a691-26f6-4a08-85c8-4716ae0d5388\",\"score\":0.7237581014633179},{\"item_id\":\"1711978b-b9d2-409f-acb9-3863f29e0c0d\",\"score\":0.6956189274787903},{\"item_id\":\"069b0e2d-4901-496c-8ff8-9800f1cb476c\",\"score\":0.6669065952301025},{\"item_id\":\"2bf6998a-d591-44cd-84df-e7648c70c4e6\",\"score\":0.661514401435852},{\"item_id\":\"cf0f8724-f813-4dfe-ba1e-2ce0a0e80a7e\",\"score\":0.6392521858215332},{\"item_id\":\"fe856057-f97d-419f-ab1c-97c5c3e0719c\",\"score\":0.6304891705513},{\"item_id\":\"2d0ebd96-bafa-42b0-ae6a-9e416e22c4d8\",\"score\":0.6218198537826538},{\"item_id\":\"5c057880-3b7e-475c-a647-8e03681a74f4\",\"score\":0.5995583534240723},{\"item_id\":\"8a03b9a5-7ba6-4a24-aac5-431e326222b0\",\"score\":0.5963349342346191}]}\n",
      "    \n",
      "\n",
      "    User: 0adffd7450d3b9840d8c6215f0569ad942e782fb19b805367b02b709b73f42a1\n",
      "    Status code: 200\n",
      "    Retorno: {\"recommendations\":[{\"item_id\":\"15281e10-e6bc-48bc-9b1b-94402f83699b\",\"score\":1.2667628526687622},{\"item_id\":\"ecd63535-1875-4f84-b7c1-3aabcadd316f\",\"score\":1.2499383687973022},{\"item_id\":\"c85cb6f6-60e1-4a94-8f8f-6b436bb1d77c\",\"score\":1.2357561588287354},{\"item_id\":\"4d89c4b6-6827-4935-9ba1-0502025af270\",\"score\":1.2142244577407837},{\"item_id\":\"0305a46a-fe62-4666-9742-f5fe5db890ab\",\"score\":1.17601478099823},{\"item_id\":\"3ffb80eb-0ae9-457e-883c-d52f57c124c0\",\"score\":1.171537160873413},{\"item_id\":\"97ac6c4c-5b3d-4e36-9816-0791226573e5\",\"score\":1.1287049055099487},{\"item_id\":\"100ff71c-da18-4182-9672-369324a71bb5\",\"score\":1.1266965866088867},{\"item_id\":\"7ccdee1e-c91a-4c93-8bca-d671cab1ee1c\",\"score\":1.1177114248275757},{\"item_id\":\"f0a78e58-ec7e-494c-9462-fbd6446a9a89\",\"score\":1.1157622337341309}]}\n",
      "    \n",
      "\n",
      "    User: c1e8d644329a78ea1f994292db624c57980b2886cfbc2d49cc3ae12fb5a533af\n",
      "    Status code: 200\n",
      "    Retorno: {\"recommendations\":[{\"item_id\":\"b4a5680b-d0e1-4260-bc54-82fbe328d3a0\",\"score\":1.3234808444976807},{\"item_id\":\"7fcf82cf-6a19-4e1f-a054-d5356546bf31\",\"score\":1.2353692054748535},{\"item_id\":\"66a9efac-fd43-4fd1-9824-c404b08efa5d\",\"score\":1.1498792171478271},{\"item_id\":\"7fe849c0-4a55-429d-b480-11ee216909dd\",\"score\":1.092681884765625},{\"item_id\":\"73b9f4e5-3047-4b2a-acce-3232b959c41a\",\"score\":1.0223678350448608},{\"item_id\":\"696c06e7-a338-4cf5-b9c3-ea8b9e775a94\",\"score\":1.0023226737976074},{\"item_id\":\"4e9c2825-ff13-41ca-8e91-edd848060d19\",\"score\":0.9512979388237},{\"item_id\":\"4d89c4b6-6827-4935-9ba1-0502025af270\",\"score\":0.9507499933242798},{\"item_id\":\"5512feb7-1489-48ba-a78b-457c9defcc51\",\"score\":0.9399368762969971},{\"item_id\":\"c85cb6f6-60e1-4a94-8f8f-6b436bb1d77c\",\"score\":0.927012026309967}]}\n",
      "    \n",
      "\n",
      "    User: 3202c194c650a89d04262e951dc48b2b517ede4af82ce5b32d920edd69c878e2\n",
      "    Status code: 200\n",
      "    Retorno: {\"recommendations\":[{\"item_id\":\"4d16a079-ca73-4bb6-b6ce-872bdddf1aa4\",\"score\":1.334333062171936},{\"item_id\":\"8f3d661a-9a9d-4080-baf0-422014067d7e\",\"score\":1.3277335166931152},{\"item_id\":\"1f2b9c2f-a2d2-4192-b009-09065da8ec23\",\"score\":1.2774032354354858},{\"item_id\":\"e1a89c3a-1649-486f-a964-ecfb33821e77\",\"score\":1.2698237895965576},{\"item_id\":\"8956c97a-6d85-4d4b-a6f7-6d42c6be97cc\",\"score\":1.2628505229949951},{\"item_id\":\"be27248d-bf76-4373-91a2-f62b612d9916\",\"score\":1.2553930282592773},{\"item_id\":\"30a03e2f-327f-42b2-babf-fbc8e9a208fd\",\"score\":1.2177938222885132},{\"item_id\":\"914fe264-109c-4d4d-8f18-052785666a24\",\"score\":1.2084401845932007},{\"item_id\":\"4a108326-b19d-42ce-94f6-807abf6e4679\",\"score\":1.2078266143798828},{\"item_id\":\"5dff8fb2-73e6-4c22-a34f-c367aa2677df\",\"score\":1.2052093744277954}]}\n",
      "    \n"
     ]
    }
   ],
   "source": [
    "# Testando recomendações:\n",
    "for uuid in users:\n",
    "    response = requests.get(f'{api_endpoint}/recommend/{uuid}')\n",
    "    print(f'''\n",
    "    User: {uuid}\n",
    "    Status code: {response.status_code}\n",
    "    Retorno: {response.text}\n",
    "    ''')"
   ]
  },
  {
   "cell_type": "code",
   "execution_count": 14,
   "id": "1c7ff39e-e1e6-412b-89f4-00d55104bfd6",
   "metadata": {},
   "outputs": [
    {
     "name": "stdout",
     "output_type": "stream",
     "text": [
      "\n",
      "    User: 0\n",
      "    Status code: 200\n",
      "    Retorno: {\"recommendations\":[{\"item_id\":\"5f2f1833-d203-486a-ac56-665fc3767018\",\"score\":0},{\"item_id\":\"9d598d19-d6be-4c7e-a963-b8fedfa8f24f\",\"score\":0},{\"item_id\":\"73151e02-dd2a-4509-968e-b9c16ec1c5db\",\"score\":0},{\"item_id\":\"8956c97a-6d85-4d4b-a6f7-6d42c6be97cc\",\"score\":0},{\"item_id\":\"bfd7eaa8-9116-4382-b00e-afc35498dbf1\",\"score\":0},{\"item_id\":\"fdab1161-53cc-433f-8c1f-636130bbaba1\",\"score\":0},{\"item_id\":\"b0803304-62b4-4428-a333-e9bf623c8a98\",\"score\":0},{\"item_id\":\"3a54bc78-a1f6-4a3c-a1f8-d541597eb6a0\",\"score\":0},{\"item_id\":\"e3cdb277-ad80-4025-b5de-cd98cc67d23d\",\"score\":0},{\"item_id\":\"598ed114-fd5a-4d82-90d8-f1e893cb0892\",\"score\":0}]}\n",
      "    \n",
      "\n",
      "    User: 1\n",
      "    Status code: 200\n",
      "    Retorno: {\"recommendations\":[{\"item_id\":\"5f2f1833-d203-486a-ac56-665fc3767018\",\"score\":0},{\"item_id\":\"9d598d19-d6be-4c7e-a963-b8fedfa8f24f\",\"score\":0},{\"item_id\":\"73151e02-dd2a-4509-968e-b9c16ec1c5db\",\"score\":0},{\"item_id\":\"8956c97a-6d85-4d4b-a6f7-6d42c6be97cc\",\"score\":0},{\"item_id\":\"bfd7eaa8-9116-4382-b00e-afc35498dbf1\",\"score\":0},{\"item_id\":\"fdab1161-53cc-433f-8c1f-636130bbaba1\",\"score\":0},{\"item_id\":\"b0803304-62b4-4428-a333-e9bf623c8a98\",\"score\":0},{\"item_id\":\"3a54bc78-a1f6-4a3c-a1f8-d541597eb6a0\",\"score\":0},{\"item_id\":\"e3cdb277-ad80-4025-b5de-cd98cc67d23d\",\"score\":0},{\"item_id\":\"598ed114-fd5a-4d82-90d8-f1e893cb0892\",\"score\":0}]}\n",
      "    \n",
      "\n",
      "    User: 2\n",
      "    Status code: 200\n",
      "    Retorno: {\"recommendations\":[{\"item_id\":\"5f2f1833-d203-486a-ac56-665fc3767018\",\"score\":0},{\"item_id\":\"9d598d19-d6be-4c7e-a963-b8fedfa8f24f\",\"score\":0},{\"item_id\":\"73151e02-dd2a-4509-968e-b9c16ec1c5db\",\"score\":0},{\"item_id\":\"8956c97a-6d85-4d4b-a6f7-6d42c6be97cc\",\"score\":0},{\"item_id\":\"bfd7eaa8-9116-4382-b00e-afc35498dbf1\",\"score\":0},{\"item_id\":\"fdab1161-53cc-433f-8c1f-636130bbaba1\",\"score\":0},{\"item_id\":\"b0803304-62b4-4428-a333-e9bf623c8a98\",\"score\":0},{\"item_id\":\"3a54bc78-a1f6-4a3c-a1f8-d541597eb6a0\",\"score\":0},{\"item_id\":\"e3cdb277-ad80-4025-b5de-cd98cc67d23d\",\"score\":0},{\"item_id\":\"598ed114-fd5a-4d82-90d8-f1e893cb0892\",\"score\":0}]}\n",
      "    \n"
     ]
    }
   ],
   "source": [
    "# Testando recomendações - novos usuarios:\n",
    "for i in range(3):\n",
    "    response = requests.get(f'{api_endpoint}/recommend/new-user')\n",
    "    print(f'''\n",
    "    User: {i}\n",
    "    Status code: {response.status_code}\n",
    "    Retorno: {response.text}\n",
    "    ''')"
   ]
  }
 ],
 "metadata": {
  "kernelspec": {
   "display_name": "venv",
   "language": "python",
   "name": "venv"
  },
  "language_info": {
   "codemirror_mode": {
    "name": "ipython",
    "version": 3
   },
   "file_extension": ".py",
   "mimetype": "text/x-python",
   "name": "python",
   "nbconvert_exporter": "python",
   "pygments_lexer": "ipython3",
   "version": "3.10.1"
  }
 },
 "nbformat": 4,
 "nbformat_minor": 5
}
